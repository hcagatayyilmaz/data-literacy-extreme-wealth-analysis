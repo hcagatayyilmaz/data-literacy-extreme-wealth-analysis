{
  "cells": [
    {
      "cell_type": "markdown",
      "id": "zZOw7aQkyf1X",
      "metadata": {
        "id": "zZOw7aQkyf1X"
      },
      "source": [
        "# 1.Data Loading"
      ]
    },
    {
      "cell_type": "code",
      "execution_count": 1,
      "id": "CJaspGYI-0pc",
      "metadata": {
        "colab": {
          "base_uri": "https://localhost:8080/"
        },
        "id": "CJaspGYI-0pc",
        "outputId": "6ec77c01-25b3-4c69-8891-e2bff63db03e"
      },
      "outputs": [
        {
          "name": "stdout",
          "output_type": "stream",
          "text": [
            "Collecting squarify\n",
            "  Downloading squarify-0.4.3-py3-none-any.whl (4.3 kB)\n",
            "Installing collected packages: squarify\n",
            "Successfully installed squarify-0.4.3\n"
          ]
        }
      ],
      "source": [
        "!pip install squarify"
      ]
    },
    {
      "cell_type": "code",
      "execution_count": 3,
      "id": "CYfcNqt0A2rj",
      "metadata": {
        "colab": {
          "base_uri": "https://localhost:8080/"
        },
        "id": "CYfcNqt0A2rj",
        "outputId": "56a21f65-67d3-4e50-ea1d-72f757132fb3"
      },
      "outputs": [
        {
          "name": "stdout",
          "output_type": "stream",
          "text": [
            "Collecting mplcyberpunk\n",
            "  Downloading mplcyberpunk-0.7.1-py3-none-any.whl (6.4 kB)\n",
            "Requirement already satisfied: matplotlib in /usr/local/lib/python3.10/dist-packages (from mplcyberpunk) (3.7.1)\n",
            "Requirement already satisfied: contourpy>=1.0.1 in /usr/local/lib/python3.10/dist-packages (from matplotlib->mplcyberpunk) (1.2.0)\n",
            "Requirement already satisfied: cycler>=0.10 in /usr/local/lib/python3.10/dist-packages (from matplotlib->mplcyberpunk) (0.12.1)\n",
            "Requirement already satisfied: fonttools>=4.22.0 in /usr/local/lib/python3.10/dist-packages (from matplotlib->mplcyberpunk) (4.47.2)\n",
            "Requirement already satisfied: kiwisolver>=1.0.1 in /usr/local/lib/python3.10/dist-packages (from matplotlib->mplcyberpunk) (1.4.5)\n",
            "Requirement already satisfied: numpy>=1.20 in /usr/local/lib/python3.10/dist-packages (from matplotlib->mplcyberpunk) (1.23.5)\n",
            "Requirement already satisfied: packaging>=20.0 in /usr/local/lib/python3.10/dist-packages (from matplotlib->mplcyberpunk) (23.2)\n",
            "Requirement already satisfied: pillow>=6.2.0 in /usr/local/lib/python3.10/dist-packages (from matplotlib->mplcyberpunk) (9.4.0)\n",
            "Requirement already satisfied: pyparsing>=2.3.1 in /usr/local/lib/python3.10/dist-packages (from matplotlib->mplcyberpunk) (3.1.1)\n",
            "Requirement already satisfied: python-dateutil>=2.7 in /usr/local/lib/python3.10/dist-packages (from matplotlib->mplcyberpunk) (2.8.2)\n",
            "Requirement already satisfied: six>=1.5 in /usr/local/lib/python3.10/dist-packages (from python-dateutil>=2.7->matplotlib->mplcyberpunk) (1.16.0)\n",
            "Installing collected packages: mplcyberpunk\n",
            "Successfully installed mplcyberpunk-0.7.1\n"
          ]
        }
      ],
      "source": [
        "!pip install mplcyberpunk"
      ]
    },
    {
      "cell_type": "code",
      "execution_count": 4,
      "id": "Nfa3jHWB4WW3",
      "metadata": {
        "colab": {
          "base_uri": "https://localhost:8080/"
        },
        "id": "Nfa3jHWB4WW3",
        "outputId": "f215a1c5-cca8-4b5a-ef6b-c1068a6edf65"
      },
      "outputs": [
        {
          "name": "stdout",
          "output_type": "stream",
          "text": [
            "Collecting tueplots\n",
            "  Downloading tueplots-0.0.13-py3-none-any.whl (20 kB)\n",
            "Requirement already satisfied: matplotlib in /usr/local/lib/python3.10/dist-packages (from tueplots) (3.7.1)\n",
            "Requirement already satisfied: numpy in /usr/local/lib/python3.10/dist-packages (from tueplots) (1.23.5)\n",
            "Requirement already satisfied: contourpy>=1.0.1 in /usr/local/lib/python3.10/dist-packages (from matplotlib->tueplots) (1.2.0)\n",
            "Requirement already satisfied: cycler>=0.10 in /usr/local/lib/python3.10/dist-packages (from matplotlib->tueplots) (0.12.1)\n",
            "Requirement already satisfied: fonttools>=4.22.0 in /usr/local/lib/python3.10/dist-packages (from matplotlib->tueplots) (4.47.2)\n",
            "Requirement already satisfied: kiwisolver>=1.0.1 in /usr/local/lib/python3.10/dist-packages (from matplotlib->tueplots) (1.4.5)\n",
            "Requirement already satisfied: packaging>=20.0 in /usr/local/lib/python3.10/dist-packages (from matplotlib->tueplots) (23.2)\n",
            "Requirement already satisfied: pillow>=6.2.0 in /usr/local/lib/python3.10/dist-packages (from matplotlib->tueplots) (9.4.0)\n",
            "Requirement already satisfied: pyparsing>=2.3.1 in /usr/local/lib/python3.10/dist-packages (from matplotlib->tueplots) (3.1.1)\n",
            "Requirement already satisfied: python-dateutil>=2.7 in /usr/local/lib/python3.10/dist-packages (from matplotlib->tueplots) (2.8.2)\n",
            "Requirement already satisfied: six>=1.5 in /usr/local/lib/python3.10/dist-packages (from python-dateutil>=2.7->matplotlib->tueplots) (1.16.0)\n",
            "Installing collected packages: tueplots\n",
            "Successfully installed tueplots-0.0.13\n"
          ]
        }
      ],
      "source": [
        "!pip install tueplots"
      ]
    },
    {
      "cell_type": "code",
      "execution_count": 5,
      "id": "f92ceb11",
      "metadata": {
        "id": "f92ceb11"
      },
      "outputs": [],
      "source": [
        "import pandas as pd\n",
        "import numpy as np\n",
        "import matplotlib.pyplot as plt\n",
        "import seaborn as sns\n",
        "import squarify\n",
        "import plotly.express as px\n",
        "import matplotlib\n",
        "import matplotlib.cm as cm\n",
        "from datetime import datetime\n",
        "import plotly.express as px\n",
        "from tueplots import bundles\n",
        "from tueplots.constants.color import rgb\n",
        "from matplotlib import ticker\n",
        "from tqdm import tqdm\n",
        "import mplcyberpunk\n",
        "import matplotlib.pyplot as plt\n",
        "import matplotlib.ticker as ticker\n"
      ]
    },
    {
      "cell_type": "code",
      "execution_count": 6,
      "id": "b6b82cb9",
      "metadata": {
        "id": "b6b82cb9"
      },
      "outputs": [],
      "source": [
        "# URL of the raw csv file in the GitHub repository\n",
        "url = 'https://raw.githubusercontent.com/hcagatayyilmaz/data-literacy-extreme-wealth-analysis/main/billionaires_2023.csv'\n",
        "\n",
        "# Use pandas to import the csv file\n",
        "df = pd.read_csv(url)"
      ]
    },
    {
      "cell_type": "code",
      "execution_count": 7,
      "id": "eae4d9d6",
      "metadata": {
        "colab": {
          "base_uri": "https://localhost:8080/",
          "height": 360
        },
        "id": "eae4d9d6",
        "outputId": "71b03f7f-fca4-43d0-b9ee-568d60d1897e"
      },
      "outputs": [
        {
          "data": {
            "text/html": [
              "\n",
              "  <div id=\"df-bba1b405-8514-4113-b912-f198b9cfe6c1\" class=\"colab-df-container\">\n",
              "    <div>\n",
              "<style scoped>\n",
              "    .dataframe tbody tr th:only-of-type {\n",
              "        vertical-align: middle;\n",
              "    }\n",
              "\n",
              "    .dataframe tbody tr th {\n",
              "        vertical-align: top;\n",
              "    }\n",
              "\n",
              "    .dataframe thead th {\n",
              "        text-align: right;\n",
              "    }\n",
              "</style>\n",
              "<table border=\"1\" class=\"dataframe\">\n",
              "  <thead>\n",
              "    <tr style=\"text-align: right;\">\n",
              "      <th></th>\n",
              "      <th>rank</th>\n",
              "      <th>finalWorth</th>\n",
              "      <th>category</th>\n",
              "      <th>personName</th>\n",
              "      <th>age</th>\n",
              "      <th>country</th>\n",
              "      <th>city</th>\n",
              "      <th>source</th>\n",
              "      <th>industries</th>\n",
              "      <th>countryOfCitizenship</th>\n",
              "      <th>...</th>\n",
              "      <th>cpi_change_country</th>\n",
              "      <th>gdp_country</th>\n",
              "      <th>gross_tertiary_education_enrollment</th>\n",
              "      <th>gross_primary_education_enrollment_country</th>\n",
              "      <th>life_expectancy_country</th>\n",
              "      <th>tax_revenue_country_country</th>\n",
              "      <th>total_tax_rate_country</th>\n",
              "      <th>population_country</th>\n",
              "      <th>latitude_country</th>\n",
              "      <th>longitude_country</th>\n",
              "    </tr>\n",
              "  </thead>\n",
              "  <tbody>\n",
              "    <tr>\n",
              "      <th>0</th>\n",
              "      <td>1</td>\n",
              "      <td>211000</td>\n",
              "      <td>Fashion &amp; Retail</td>\n",
              "      <td>Bernard Arnault &amp; family</td>\n",
              "      <td>74.0</td>\n",
              "      <td>France</td>\n",
              "      <td>Paris</td>\n",
              "      <td>LVMH</td>\n",
              "      <td>Fashion &amp; Retail</td>\n",
              "      <td>France</td>\n",
              "      <td>...</td>\n",
              "      <td>1.1</td>\n",
              "      <td>$2,715,518,274,227</td>\n",
              "      <td>65.6</td>\n",
              "      <td>102.5</td>\n",
              "      <td>82.5</td>\n",
              "      <td>24.2</td>\n",
              "      <td>60.7</td>\n",
              "      <td>67059887.0</td>\n",
              "      <td>46.227638</td>\n",
              "      <td>2.213749</td>\n",
              "    </tr>\n",
              "    <tr>\n",
              "      <th>1</th>\n",
              "      <td>2</td>\n",
              "      <td>180000</td>\n",
              "      <td>Automotive</td>\n",
              "      <td>Elon Musk</td>\n",
              "      <td>51.0</td>\n",
              "      <td>United States</td>\n",
              "      <td>Austin</td>\n",
              "      <td>Tesla, SpaceX</td>\n",
              "      <td>Automotive</td>\n",
              "      <td>United States</td>\n",
              "      <td>...</td>\n",
              "      <td>7.5</td>\n",
              "      <td>$21,427,700,000,000</td>\n",
              "      <td>88.2</td>\n",
              "      <td>101.8</td>\n",
              "      <td>78.5</td>\n",
              "      <td>9.6</td>\n",
              "      <td>36.6</td>\n",
              "      <td>328239523.0</td>\n",
              "      <td>37.090240</td>\n",
              "      <td>-95.712891</td>\n",
              "    </tr>\n",
              "    <tr>\n",
              "      <th>2</th>\n",
              "      <td>3</td>\n",
              "      <td>114000</td>\n",
              "      <td>Technology</td>\n",
              "      <td>Jeff Bezos</td>\n",
              "      <td>59.0</td>\n",
              "      <td>United States</td>\n",
              "      <td>Medina</td>\n",
              "      <td>Amazon</td>\n",
              "      <td>Technology</td>\n",
              "      <td>United States</td>\n",
              "      <td>...</td>\n",
              "      <td>7.5</td>\n",
              "      <td>$21,427,700,000,000</td>\n",
              "      <td>88.2</td>\n",
              "      <td>101.8</td>\n",
              "      <td>78.5</td>\n",
              "      <td>9.6</td>\n",
              "      <td>36.6</td>\n",
              "      <td>328239523.0</td>\n",
              "      <td>37.090240</td>\n",
              "      <td>-95.712891</td>\n",
              "    </tr>\n",
              "    <tr>\n",
              "      <th>3</th>\n",
              "      <td>4</td>\n",
              "      <td>107000</td>\n",
              "      <td>Technology</td>\n",
              "      <td>Larry Ellison</td>\n",
              "      <td>78.0</td>\n",
              "      <td>United States</td>\n",
              "      <td>Lanai</td>\n",
              "      <td>Oracle</td>\n",
              "      <td>Technology</td>\n",
              "      <td>United States</td>\n",
              "      <td>...</td>\n",
              "      <td>7.5</td>\n",
              "      <td>$21,427,700,000,000</td>\n",
              "      <td>88.2</td>\n",
              "      <td>101.8</td>\n",
              "      <td>78.5</td>\n",
              "      <td>9.6</td>\n",
              "      <td>36.6</td>\n",
              "      <td>328239523.0</td>\n",
              "      <td>37.090240</td>\n",
              "      <td>-95.712891</td>\n",
              "    </tr>\n",
              "    <tr>\n",
              "      <th>4</th>\n",
              "      <td>5</td>\n",
              "      <td>106000</td>\n",
              "      <td>Finance &amp; Investments</td>\n",
              "      <td>Warren Buffett</td>\n",
              "      <td>92.0</td>\n",
              "      <td>United States</td>\n",
              "      <td>Omaha</td>\n",
              "      <td>Berkshire Hathaway</td>\n",
              "      <td>Finance &amp; Investments</td>\n",
              "      <td>United States</td>\n",
              "      <td>...</td>\n",
              "      <td>7.5</td>\n",
              "      <td>$21,427,700,000,000</td>\n",
              "      <td>88.2</td>\n",
              "      <td>101.8</td>\n",
              "      <td>78.5</td>\n",
              "      <td>9.6</td>\n",
              "      <td>36.6</td>\n",
              "      <td>328239523.0</td>\n",
              "      <td>37.090240</td>\n",
              "      <td>-95.712891</td>\n",
              "    </tr>\n",
              "  </tbody>\n",
              "</table>\n",
              "<p>5 rows × 35 columns</p>\n",
              "</div>\n",
              "    <div class=\"colab-df-buttons\">\n",
              "\n",
              "  <div class=\"colab-df-container\">\n",
              "    <button class=\"colab-df-convert\" onclick=\"convertToInteractive('df-bba1b405-8514-4113-b912-f198b9cfe6c1')\"\n",
              "            title=\"Convert this dataframe to an interactive table.\"\n",
              "            style=\"display:none;\">\n",
              "\n",
              "  <svg xmlns=\"http://www.w3.org/2000/svg\" height=\"24px\" viewBox=\"0 -960 960 960\">\n",
              "    <path d=\"M120-120v-720h720v720H120Zm60-500h600v-160H180v160Zm220 220h160v-160H400v160Zm0 220h160v-160H400v160ZM180-400h160v-160H180v160Zm440 0h160v-160H620v160ZM180-180h160v-160H180v160Zm440 0h160v-160H620v160Z\"/>\n",
              "  </svg>\n",
              "    </button>\n",
              "\n",
              "  <style>\n",
              "    .colab-df-container {\n",
              "      display:flex;\n",
              "      gap: 12px;\n",
              "    }\n",
              "\n",
              "    .colab-df-convert {\n",
              "      background-color: #E8F0FE;\n",
              "      border: none;\n",
              "      border-radius: 50%;\n",
              "      cursor: pointer;\n",
              "      display: none;\n",
              "      fill: #1967D2;\n",
              "      height: 32px;\n",
              "      padding: 0 0 0 0;\n",
              "      width: 32px;\n",
              "    }\n",
              "\n",
              "    .colab-df-convert:hover {\n",
              "      background-color: #E2EBFA;\n",
              "      box-shadow: 0px 1px 2px rgba(60, 64, 67, 0.3), 0px 1px 3px 1px rgba(60, 64, 67, 0.15);\n",
              "      fill: #174EA6;\n",
              "    }\n",
              "\n",
              "    .colab-df-buttons div {\n",
              "      margin-bottom: 4px;\n",
              "    }\n",
              "\n",
              "    [theme=dark] .colab-df-convert {\n",
              "      background-color: #3B4455;\n",
              "      fill: #D2E3FC;\n",
              "    }\n",
              "\n",
              "    [theme=dark] .colab-df-convert:hover {\n",
              "      background-color: #434B5C;\n",
              "      box-shadow: 0px 1px 3px 1px rgba(0, 0, 0, 0.15);\n",
              "      filter: drop-shadow(0px 1px 2px rgba(0, 0, 0, 0.3));\n",
              "      fill: #FFFFFF;\n",
              "    }\n",
              "  </style>\n",
              "\n",
              "    <script>\n",
              "      const buttonEl =\n",
              "        document.querySelector('#df-bba1b405-8514-4113-b912-f198b9cfe6c1 button.colab-df-convert');\n",
              "      buttonEl.style.display =\n",
              "        google.colab.kernel.accessAllowed ? 'block' : 'none';\n",
              "\n",
              "      async function convertToInteractive(key) {\n",
              "        const element = document.querySelector('#df-bba1b405-8514-4113-b912-f198b9cfe6c1');\n",
              "        const dataTable =\n",
              "          await google.colab.kernel.invokeFunction('convertToInteractive',\n",
              "                                                    [key], {});\n",
              "        if (!dataTable) return;\n",
              "\n",
              "        const docLinkHtml = 'Like what you see? Visit the ' +\n",
              "          '<a target=\"_blank\" href=https://colab.research.google.com/notebooks/data_table.ipynb>data table notebook</a>'\n",
              "          + ' to learn more about interactive tables.';\n",
              "        element.innerHTML = '';\n",
              "        dataTable['output_type'] = 'display_data';\n",
              "        await google.colab.output.renderOutput(dataTable, element);\n",
              "        const docLink = document.createElement('div');\n",
              "        docLink.innerHTML = docLinkHtml;\n",
              "        element.appendChild(docLink);\n",
              "      }\n",
              "    </script>\n",
              "  </div>\n",
              "\n",
              "\n",
              "<div id=\"df-014b32c1-1f45-471f-b693-0c5f63992b2a\">\n",
              "  <button class=\"colab-df-quickchart\" onclick=\"quickchart('df-014b32c1-1f45-471f-b693-0c5f63992b2a')\"\n",
              "            title=\"Suggest charts\"\n",
              "            style=\"display:none;\">\n",
              "\n",
              "<svg xmlns=\"http://www.w3.org/2000/svg\" height=\"24px\"viewBox=\"0 0 24 24\"\n",
              "     width=\"24px\">\n",
              "    <g>\n",
              "        <path d=\"M19 3H5c-1.1 0-2 .9-2 2v14c0 1.1.9 2 2 2h14c1.1 0 2-.9 2-2V5c0-1.1-.9-2-2-2zM9 17H7v-7h2v7zm4 0h-2V7h2v10zm4 0h-2v-4h2v4z\"/>\n",
              "    </g>\n",
              "</svg>\n",
              "  </button>\n",
              "\n",
              "<style>\n",
              "  .colab-df-quickchart {\n",
              "      --bg-color: #E8F0FE;\n",
              "      --fill-color: #1967D2;\n",
              "      --hover-bg-color: #E2EBFA;\n",
              "      --hover-fill-color: #174EA6;\n",
              "      --disabled-fill-color: #AAA;\n",
              "      --disabled-bg-color: #DDD;\n",
              "  }\n",
              "\n",
              "  [theme=dark] .colab-df-quickchart {\n",
              "      --bg-color: #3B4455;\n",
              "      --fill-color: #D2E3FC;\n",
              "      --hover-bg-color: #434B5C;\n",
              "      --hover-fill-color: #FFFFFF;\n",
              "      --disabled-bg-color: #3B4455;\n",
              "      --disabled-fill-color: #666;\n",
              "  }\n",
              "\n",
              "  .colab-df-quickchart {\n",
              "    background-color: var(--bg-color);\n",
              "    border: none;\n",
              "    border-radius: 50%;\n",
              "    cursor: pointer;\n",
              "    display: none;\n",
              "    fill: var(--fill-color);\n",
              "    height: 32px;\n",
              "    padding: 0;\n",
              "    width: 32px;\n",
              "  }\n",
              "\n",
              "  .colab-df-quickchart:hover {\n",
              "    background-color: var(--hover-bg-color);\n",
              "    box-shadow: 0 1px 2px rgba(60, 64, 67, 0.3), 0 1px 3px 1px rgba(60, 64, 67, 0.15);\n",
              "    fill: var(--button-hover-fill-color);\n",
              "  }\n",
              "\n",
              "  .colab-df-quickchart-complete:disabled,\n",
              "  .colab-df-quickchart-complete:disabled:hover {\n",
              "    background-color: var(--disabled-bg-color);\n",
              "    fill: var(--disabled-fill-color);\n",
              "    box-shadow: none;\n",
              "  }\n",
              "\n",
              "  .colab-df-spinner {\n",
              "    border: 2px solid var(--fill-color);\n",
              "    border-color: transparent;\n",
              "    border-bottom-color: var(--fill-color);\n",
              "    animation:\n",
              "      spin 1s steps(1) infinite;\n",
              "  }\n",
              "\n",
              "  @keyframes spin {\n",
              "    0% {\n",
              "      border-color: transparent;\n",
              "      border-bottom-color: var(--fill-color);\n",
              "      border-left-color: var(--fill-color);\n",
              "    }\n",
              "    20% {\n",
              "      border-color: transparent;\n",
              "      border-left-color: var(--fill-color);\n",
              "      border-top-color: var(--fill-color);\n",
              "    }\n",
              "    30% {\n",
              "      border-color: transparent;\n",
              "      border-left-color: var(--fill-color);\n",
              "      border-top-color: var(--fill-color);\n",
              "      border-right-color: var(--fill-color);\n",
              "    }\n",
              "    40% {\n",
              "      border-color: transparent;\n",
              "      border-right-color: var(--fill-color);\n",
              "      border-top-color: var(--fill-color);\n",
              "    }\n",
              "    60% {\n",
              "      border-color: transparent;\n",
              "      border-right-color: var(--fill-color);\n",
              "    }\n",
              "    80% {\n",
              "      border-color: transparent;\n",
              "      border-right-color: var(--fill-color);\n",
              "      border-bottom-color: var(--fill-color);\n",
              "    }\n",
              "    90% {\n",
              "      border-color: transparent;\n",
              "      border-bottom-color: var(--fill-color);\n",
              "    }\n",
              "  }\n",
              "</style>\n",
              "\n",
              "  <script>\n",
              "    async function quickchart(key) {\n",
              "      const quickchartButtonEl =\n",
              "        document.querySelector('#' + key + ' button');\n",
              "      quickchartButtonEl.disabled = true;  // To prevent multiple clicks.\n",
              "      quickchartButtonEl.classList.add('colab-df-spinner');\n",
              "      try {\n",
              "        const charts = await google.colab.kernel.invokeFunction(\n",
              "            'suggestCharts', [key], {});\n",
              "      } catch (error) {\n",
              "        console.error('Error during call to suggestCharts:', error);\n",
              "      }\n",
              "      quickchartButtonEl.classList.remove('colab-df-spinner');\n",
              "      quickchartButtonEl.classList.add('colab-df-quickchart-complete');\n",
              "    }\n",
              "    (() => {\n",
              "      let quickchartButtonEl =\n",
              "        document.querySelector('#df-014b32c1-1f45-471f-b693-0c5f63992b2a button');\n",
              "      quickchartButtonEl.style.display =\n",
              "        google.colab.kernel.accessAllowed ? 'block' : 'none';\n",
              "    })();\n",
              "  </script>\n",
              "</div>\n",
              "    </div>\n",
              "  </div>\n"
            ],
            "text/plain": [
              "   rank  finalWorth               category                personName   age  \\\n",
              "0     1      211000       Fashion & Retail  Bernard Arnault & family  74.0   \n",
              "1     2      180000             Automotive                 Elon Musk  51.0   \n",
              "2     3      114000             Technology                Jeff Bezos  59.0   \n",
              "3     4      107000             Technology             Larry Ellison  78.0   \n",
              "4     5      106000  Finance & Investments            Warren Buffett  92.0   \n",
              "\n",
              "         country    city              source             industries  \\\n",
              "0         France   Paris                LVMH       Fashion & Retail   \n",
              "1  United States  Austin       Tesla, SpaceX             Automotive   \n",
              "2  United States  Medina              Amazon             Technology   \n",
              "3  United States   Lanai              Oracle             Technology   \n",
              "4  United States   Omaha  Berkshire Hathaway  Finance & Investments   \n",
              "\n",
              "  countryOfCitizenship  ... cpi_change_country           gdp_country  \\\n",
              "0               France  ...                1.1   $2,715,518,274,227    \n",
              "1        United States  ...                7.5  $21,427,700,000,000    \n",
              "2        United States  ...                7.5  $21,427,700,000,000    \n",
              "3        United States  ...                7.5  $21,427,700,000,000    \n",
              "4        United States  ...                7.5  $21,427,700,000,000    \n",
              "\n",
              "  gross_tertiary_education_enrollment  \\\n",
              "0                                65.6   \n",
              "1                                88.2   \n",
              "2                                88.2   \n",
              "3                                88.2   \n",
              "4                                88.2   \n",
              "\n",
              "  gross_primary_education_enrollment_country life_expectancy_country  \\\n",
              "0                                      102.5                    82.5   \n",
              "1                                      101.8                    78.5   \n",
              "2                                      101.8                    78.5   \n",
              "3                                      101.8                    78.5   \n",
              "4                                      101.8                    78.5   \n",
              "\n",
              "  tax_revenue_country_country total_tax_rate_country population_country  \\\n",
              "0                        24.2                   60.7         67059887.0   \n",
              "1                         9.6                   36.6        328239523.0   \n",
              "2                         9.6                   36.6        328239523.0   \n",
              "3                         9.6                   36.6        328239523.0   \n",
              "4                         9.6                   36.6        328239523.0   \n",
              "\n",
              "  latitude_country longitude_country  \n",
              "0        46.227638          2.213749  \n",
              "1        37.090240        -95.712891  \n",
              "2        37.090240        -95.712891  \n",
              "3        37.090240        -95.712891  \n",
              "4        37.090240        -95.712891  \n",
              "\n",
              "[5 rows x 35 columns]"
            ]
          },
          "execution_count": 7,
          "metadata": {},
          "output_type": "execute_result"
        }
      ],
      "source": [
        "df.head()"
      ]
    },
    {
      "cell_type": "markdown",
      "id": "5XsLb_A7xiaG",
      "metadata": {
        "id": "5XsLb_A7xiaG"
      },
      "source": [
        "# 2.Data Preprocessing\n"
      ]
    },
    {
      "cell_type": "code",
      "execution_count": 8,
      "id": "kxnBvCAs0ov2",
      "metadata": {
        "colab": {
          "base_uri": "https://localhost:8080/"
        },
        "id": "kxnBvCAs0ov2",
        "outputId": "01639d5f-4695-4bcb-b7d0-2a15765d9eb6"
      },
      "outputs": [
        {
          "data": {
            "text/plain": [
              "(2640, 35)"
            ]
          },
          "execution_count": 8,
          "metadata": {},
          "output_type": "execute_result"
        }
      ],
      "source": [
        "df.shape"
      ]
    },
    {
      "cell_type": "code",
      "execution_count": 9,
      "id": "6de13aa3",
      "metadata": {
        "colab": {
          "base_uri": "https://localhost:8080/"
        },
        "id": "6de13aa3",
        "outputId": "a9c012de-4db5-4a9c-ac51-59aacb8a2437"
      },
      "outputs": [
        {
          "data": {
            "text/plain": [
              "Index(['rank', 'finalWorth', 'category', 'personName', 'age', 'country',\n",
              "       'city', 'source', 'industries', 'countryOfCitizenship', 'organization',\n",
              "       'selfMade', 'status', 'gender', 'birthDate', 'lastName', 'firstName',\n",
              "       'title', 'date', 'state', 'residenceStateRegion', 'birthYear',\n",
              "       'birthMonth', 'birthDay', 'cpi_country', 'cpi_change_country',\n",
              "       'gdp_country', 'gross_tertiary_education_enrollment',\n",
              "       'gross_primary_education_enrollment_country', 'life_expectancy_country',\n",
              "       'tax_revenue_country_country', 'total_tax_rate_country',\n",
              "       'population_country', 'latitude_country', 'longitude_country'],\n",
              "      dtype='object')"
            ]
          },
          "execution_count": 9,
          "metadata": {},
          "output_type": "execute_result"
        }
      ],
      "source": [
        "df.columns"
      ]
    },
    {
      "cell_type": "code",
      "execution_count": 10,
      "id": "-a6uEcGDzBNE",
      "metadata": {
        "colab": {
          "base_uri": "https://localhost:8080/"
        },
        "id": "-a6uEcGDzBNE",
        "outputId": "8da2fe29-b204-4c32-9d53-7e0c09657759"
      },
      "outputs": [
        {
          "data": {
            "text/plain": [
              "rank                                            int64\n",
              "finalWorth                                      int64\n",
              "category                                       object\n",
              "personName                                     object\n",
              "age                                           float64\n",
              "country                                        object\n",
              "city                                           object\n",
              "source                                         object\n",
              "industries                                     object\n",
              "countryOfCitizenship                           object\n",
              "organization                                   object\n",
              "selfMade                                         bool\n",
              "status                                         object\n",
              "gender                                         object\n",
              "birthDate                                      object\n",
              "lastName                                       object\n",
              "firstName                                      object\n",
              "title                                          object\n",
              "date                                           object\n",
              "state                                          object\n",
              "residenceStateRegion                           object\n",
              "birthYear                                     float64\n",
              "birthMonth                                    float64\n",
              "birthDay                                      float64\n",
              "cpi_country                                   float64\n",
              "cpi_change_country                            float64\n",
              "gdp_country                                    object\n",
              "gross_tertiary_education_enrollment           float64\n",
              "gross_primary_education_enrollment_country    float64\n",
              "life_expectancy_country                       float64\n",
              "tax_revenue_country_country                   float64\n",
              "total_tax_rate_country                        float64\n",
              "population_country                            float64\n",
              "latitude_country                              float64\n",
              "longitude_country                             float64\n",
              "dtype: object"
            ]
          },
          "execution_count": 10,
          "metadata": {},
          "output_type": "execute_result"
        }
      ],
      "source": [
        "df.dtypes"
      ]
    },
    {
      "cell_type": "code",
      "execution_count": 11,
      "id": "nQXOyPWXzxn1",
      "metadata": {
        "colab": {
          "base_uri": "https://localhost:8080/"
        },
        "id": "nQXOyPWXzxn1",
        "outputId": "84b8164f-c3d1-4cf9-9484-2b4688290657"
      },
      "outputs": [
        {
          "name": "stdout",
          "output_type": "stream",
          "text": [
            "                                            Has_Null  Null_Count  Null_Percent\n",
            "organization                                    True        2315            88\n",
            "title                                           True        2301            87\n",
            "residenceStateRegion                            True        1893            72\n",
            "state                                           True        1887            71\n",
            "cpi_change_country                              True         184             7\n",
            "cpi_country                                     True         184             7\n",
            "tax_revenue_country_country                     True         183             7\n",
            "total_tax_rate_country                          True         182             7\n",
            "life_expectancy_country                         True         182             7\n",
            "gross_tertiary_education_enrollment             True         182             7\n",
            "gross_primary_education_enrollment_country      True         181             7\n",
            "latitude_country                                True         164             6\n",
            "population_country                              True         164             6\n",
            "gdp_country                                     True         164             6\n",
            "longitude_country                               True         164             6\n",
            "birthDate                                       True          76             3\n",
            "birthYear                                       True          76             3\n",
            "birthMonth                                      True          76             3\n",
            "birthDay                                        True          76             3\n",
            "city                                            True          72             3\n",
            "age                                             True          65             2\n",
            "country                                         True          38             1\n",
            "firstName                                       True           3             0\n",
            "lastName                                       False           0             0\n",
            "source                                         False           0             0\n",
            "category                                       False           0             0\n",
            "personName                                     False           0             0\n",
            "selfMade                                       False           0             0\n",
            "industries                                     False           0             0\n",
            "countryOfCitizenship                           False           0             0\n",
            "status                                         False           0             0\n",
            "gender                                         False           0             0\n",
            "date                                           False           0             0\n",
            "finalWorth                                     False           0             0\n",
            "rank                                           False           0             0\n"
          ]
        }
      ],
      "source": [
        "# Check for null values in each column\n",
        "null_values = df.isnull().any()\n",
        "\n",
        "# Count null values in each column\n",
        "null_counts = df.isnull().sum()\n",
        "\n",
        "null_percent = (round(null_counts/len(df),2)*100).astype(int)\n",
        "\n",
        "# Create a new DataFrame\n",
        "null_info_df = pd.DataFrame({\n",
        "    'Has_Null': null_values,\n",
        "    'Null_Count': null_counts,\n",
        "    'Null_Percent': null_percent\n",
        "})\n",
        "\n",
        "# Display the result\n",
        "print(null_info_df.sort_values(by='Null_Count', ascending=False))"
      ]
    },
    {
      "cell_type": "code",
      "execution_count": 12,
      "id": "yUkIHzkR0yBy",
      "metadata": {
        "id": "yUkIHzkR0yBy"
      },
      "outputs": [],
      "source": [
        "# Drop the columns with almost only have null values\n",
        "df.drop([\"organization\", \"title\", \"state\", \"residenceStateRegion\"], axis=1, inplace=True)"
      ]
    },
    {
      "cell_type": "code",
      "execution_count": 13,
      "id": "R4VFasKWw95w",
      "metadata": {
        "colab": {
          "base_uri": "https://localhost:8080/"
        },
        "id": "R4VFasKWw95w",
        "outputId": "2842c484-f3c8-4966-b164-956838d21501"
      },
      "outputs": [
        {
          "data": {
            "text/plain": [
              "False"
            ]
          },
          "execution_count": 13,
          "metadata": {},
          "output_type": "execute_result"
        }
      ],
      "source": [
        "# Check for duplicates\n",
        "df.duplicated().any()"
      ]
    },
    {
      "cell_type": "code",
      "execution_count": 14,
      "id": "NKIJ1AbLxQ_e",
      "metadata": {
        "colab": {
          "base_uri": "https://localhost:8080/"
        },
        "id": "NKIJ1AbLxQ_e",
        "outputId": "c6a82c2c-9628-4827-c34b-1464d3af4589"
      },
      "outputs": [
        {
          "name": "stdout",
          "output_type": "stream",
          "text": [
            "float64\n"
          ]
        },
        {
          "name": "stderr",
          "output_type": "stream",
          "text": [
            "<ipython-input-14-0cc4b4e5bb31>:2: FutureWarning: The default value of regex will change from True to False in a future version. In addition, single character regular expressions will *not* be treated as literal strings when regex=True.\n",
            "  df['gdp_country'] = df['gdp_country'].str.replace('$','').replace(',','', regex=True).astype(float)\n"
          ]
        }
      ],
      "source": [
        "# Convert 'gdp_country' to float by removing '$' and ','\n",
        "df['gdp_country'] = df['gdp_country'].str.replace('$','').replace(',','', regex=True).astype(float)\n",
        "print(df['gdp_country'].dtype)"
      ]
    },
    {
      "cell_type": "code",
      "execution_count": 15,
      "id": "gCAVEXVe2LEc",
      "metadata": {
        "colab": {
          "base_uri": "https://localhost:8080/"
        },
        "id": "gCAVEXVe2LEc",
        "outputId": "9c3abfeb-bf6e-4668-932a-769aad5c8279"
      },
      "outputs": [
        {
          "data": {
            "text/plain": [
              "False"
            ]
          },
          "execution_count": 15,
          "metadata": {},
          "output_type": "execute_result"
        }
      ],
      "source": [
        "# To see whether we can fill null values in country column usign latitude and logitude columns:\n",
        "condition_country = (df['country'].isnull()) & (df['longitude_country'].notnull()) & (df['latitude_country'].notnull())\n",
        "\n",
        "# Check if there are any rows that satisfy the conditions\n",
        "condition_country.any()"
      ]
    },
    {
      "cell_type": "code",
      "execution_count": 16,
      "id": "S8UKJ_Ip689X",
      "metadata": {
        "id": "S8UKJ_Ip689X"
      },
      "outputs": [],
      "source": [
        "# Since country is an important feature for our analysis. We drop the rows with null country values\n",
        "df.dropna(subset=['country'], inplace=True)"
      ]
    },
    {
      "cell_type": "code",
      "execution_count": 17,
      "id": "v94smEHdu25L",
      "metadata": {
        "colab": {
          "base_uri": "https://localhost:8080/"
        },
        "id": "v94smEHdu25L",
        "outputId": "87a11dfc-3ce2-4d19-9aed-0ff20c78be4b"
      },
      "outputs": [
        {
          "data": {
            "text/plain": [
              "False"
            ]
          },
          "execution_count": 17,
          "metadata": {},
          "output_type": "execute_result"
        }
      ],
      "source": [
        "# To see if we can fill out null values in age column using birthDate or birthYear columns\n",
        "condition_age = ((df['age'].isnull()) & ((df['birthDate'].notnull()) | df['birthYear'].notnull()))\n",
        "\n",
        "# Check if there are any rows that satisfy the conditions\n",
        "condition_age.any()"
      ]
    },
    {
      "cell_type": "code",
      "execution_count": 18,
      "id": "_FMtjLxixWZk",
      "metadata": {
        "id": "_FMtjLxixWZk"
      },
      "outputs": [],
      "source": [
        "# Drop unnecessary columns\n",
        "df.drop([\"birthDay\", \"birthMonth\", \"birthYear\"], axis=1, inplace=True)"
      ]
    },
    {
      "cell_type": "code",
      "execution_count": 19,
      "id": "MJNF2wOqIiCa",
      "metadata": {
        "colab": {
          "base_uri": "https://localhost:8080/"
        },
        "id": "MJNF2wOqIiCa",
        "outputId": "82e631e0-a9ad-495e-b98f-3a0ac2c15e5b"
      },
      "outputs": [
        {
          "data": {
            "text/plain": [
              "0         3/5/1949 0:00\n",
              "1        6/28/1971 0:00\n",
              "2        1/12/1964 0:00\n",
              "3        8/17/1944 0:00\n",
              "4        8/30/1930 0:00\n",
              "             ...       \n",
              "2635    12/14/1971 0:00\n",
              "2636     3/10/1943 0:00\n",
              "2637    12/18/1962 0:00\n",
              "2638     8/21/1951 0:00\n",
              "2639     11/1/1956 0:00\n",
              "Name: birthDate, Length: 2602, dtype: object"
            ]
          },
          "execution_count": 19,
          "metadata": {},
          "output_type": "execute_result"
        }
      ],
      "source": [
        "df['birthDate']"
      ]
    },
    {
      "cell_type": "code",
      "execution_count": 20,
      "id": "ntj9_Ko7JDE_",
      "metadata": {
        "id": "ntj9_Ko7JDE_"
      },
      "outputs": [],
      "source": [
        "# Convert 'birthDate' to datetime\n",
        "df['birthDate'] = df['birthDate'].apply(lambda x: datetime.strptime(x, '%m/%d/%Y %H:%M') if isinstance(x, str) else x)"
      ]
    },
    {
      "cell_type": "code",
      "execution_count": 21,
      "id": "vubHXXEoRrSL",
      "metadata": {
        "colab": {
          "base_uri": "https://localhost:8080/"
        },
        "id": "vubHXXEoRrSL",
        "outputId": "34c75293-8688-4fce-d089-75f9da90a627"
      },
      "outputs": [
        {
          "data": {
            "text/plain": [
              "cpi_country                                   146\n",
              "cpi_change_country                            146\n",
              "gdp_country                                   126\n",
              "gross_tertiary_education_enrollment           144\n",
              "gross_primary_education_enrollment_country    143\n",
              "life_expectancy_country                       144\n",
              "tax_revenue_country_country                   145\n",
              "total_tax_rate_country                        144\n",
              "population_country                            126\n",
              "latitude_country                              126\n",
              "longitude_country                             126\n",
              "dtype: int64"
            ]
          },
          "execution_count": 21,
          "metadata": {},
          "output_type": "execute_result"
        }
      ],
      "source": [
        "# Specify the columns with missing values and the country column\n",
        "columns_to_fill = ['cpi_country','cpi_change_country',\n",
        "                   'gdp_country', 'gross_tertiary_education_enrollment',\n",
        "                   'gross_primary_education_enrollment_country',\n",
        "                   'life_expectancy_country', 'tax_revenue_country_country',\n",
        "                   'total_tax_rate_country', 'population_country',\n",
        "                   'latitude_country', 'longitude_country']\n",
        "\n",
        "# Identify unique countries with complete information\n",
        "complete_countries = df.dropna(subset=columns_to_fill + ['country'])[['country'] + columns_to_fill].drop_duplicates()\n",
        "\n",
        "# Group by 'country' and fill missing values with corresponding country's values\n",
        "df[columns_to_fill] = df.groupby('country')[columns_to_fill].transform(lambda x: x.fillna(method='ffill').fillna(method='bfill'))\n",
        "\n",
        "# Drop duplicate rows based on all columns\n",
        "df = df.drop_duplicates()\n",
        "\n",
        "# Reset index after dropping duplicates\n",
        "df = df.reset_index(drop=True)\n",
        "\n",
        "# Missing values after filling\n",
        "df[columns_to_fill].isnull().sum()"
      ]
    },
    {
      "cell_type": "code",
      "execution_count": 22,
      "id": "vX3nG6MUVE2I",
      "metadata": {
        "id": "vX3nG6MUVE2I"
      },
      "outputs": [],
      "source": [
        "# Drop the remaining null values\n",
        "df.dropna(inplace=True)"
      ]
    },
    {
      "cell_type": "code",
      "execution_count": 23,
      "id": "QIZVIYK46OkY",
      "metadata": {
        "colab": {
          "base_uri": "https://localhost:8080/"
        },
        "id": "QIZVIYK46OkY",
        "outputId": "990d983c-bfc6-41ae-bf44-a389ddb4bf6f"
      },
      "outputs": [
        {
          "name": "stdout",
          "output_type": "stream",
          "text": [
            "Total rows with missing values: 0\n"
          ]
        }
      ],
      "source": [
        "# Count the total number of rows with at least one missing value\n",
        "total_missing_rows = (df.isnull().any(axis=1)).sum()\n",
        "\n",
        "# Print the result\n",
        "print(f'Total rows with missing values: {total_missing_rows}')"
      ]
    },
    {
      "cell_type": "markdown",
      "id": "zd94fMgpzZLl",
      "metadata": {
        "id": "zd94fMgpzZLl"
      },
      "source": [
        "# 3.Data Description and Visualization"
      ]
    },
    {
      "cell_type": "markdown",
      "id": "_UR3dPnv6fTk",
      "metadata": {
        "id": "_UR3dPnv6fTk"
      },
      "source": [
        "1. Total number of billionaires\n",
        "2. the Average Age of Billionaires\n",
        "3. the relationship between the Age Distribution of Billionaires Tell\n",
        "4. gender and Self-Made/not distributions among Billionaires\n",
        "5. Country distribution\n",
        "6. Industry Distribution\n",
        "7. Geographical Distribution\n",
        "8. How Does Tertiary Education Enrollment Vary Across Countries where billionaires reside and how does it correlate with the number of billionaires?\n",
        "9. the Billionaire Wealth Correlate and Tax Rates Correlation"
      ]
    },
    {
      "cell_type": "code",
      "execution_count": 24,
      "id": "lxYSKFNCU3jT",
      "metadata": {
        "colab": {
          "base_uri": "https://localhost:8080/",
          "height": 488
        },
        "id": "lxYSKFNCU3jT",
        "outputId": "e4ccb3b0-774e-499c-d3bc-60f187f00700"
      },
      "outputs": [
        {
          "data": {
            "text/html": [
              "\n",
              "  <div id=\"df-3f9302f0-36d0-458b-88a6-c8660c776b0b\" class=\"colab-df-container\">\n",
              "    <div>\n",
              "<style scoped>\n",
              "    .dataframe tbody tr th:only-of-type {\n",
              "        vertical-align: middle;\n",
              "    }\n",
              "\n",
              "    .dataframe tbody tr th {\n",
              "        vertical-align: top;\n",
              "    }\n",
              "\n",
              "    .dataframe thead th {\n",
              "        text-align: right;\n",
              "    }\n",
              "</style>\n",
              "<table border=\"1\" class=\"dataframe\">\n",
              "  <thead>\n",
              "    <tr style=\"text-align: right;\">\n",
              "      <th></th>\n",
              "      <th>count</th>\n",
              "      <th>mean</th>\n",
              "      <th>std</th>\n",
              "      <th>min</th>\n",
              "      <th>25%</th>\n",
              "      <th>50%</th>\n",
              "      <th>75%</th>\n",
              "      <th>max</th>\n",
              "    </tr>\n",
              "  </thead>\n",
              "  <tbody>\n",
              "    <tr>\n",
              "      <th>rank</th>\n",
              "      <td>2369.00</td>\n",
              "      <td>1275.33</td>\n",
              "      <td>743.48</td>\n",
              "      <td>1.00</td>\n",
              "      <td>636.00</td>\n",
              "      <td>1272.00</td>\n",
              "      <td>1905.00</td>\n",
              "      <td>2540.00</td>\n",
              "    </tr>\n",
              "    <tr>\n",
              "      <th>finalWorth</th>\n",
              "      <td>2369.00</td>\n",
              "      <td>4783.12</td>\n",
              "      <td>10287.71</td>\n",
              "      <td>1000.00</td>\n",
              "      <td>1500.00</td>\n",
              "      <td>2400.00</td>\n",
              "      <td>4300.00</td>\n",
              "      <td>211000.00</td>\n",
              "    </tr>\n",
              "    <tr>\n",
              "      <th>age</th>\n",
              "      <td>2369.00</td>\n",
              "      <td>65.06</td>\n",
              "      <td>13.10</td>\n",
              "      <td>18.00</td>\n",
              "      <td>56.00</td>\n",
              "      <td>65.00</td>\n",
              "      <td>75.00</td>\n",
              "      <td>101.00</td>\n",
              "    </tr>\n",
              "    <tr>\n",
              "      <th>cpi_country</th>\n",
              "      <td>2369.00</td>\n",
              "      <td>128.01</td>\n",
              "      <td>26.70</td>\n",
              "      <td>99.55</td>\n",
              "      <td>117.24</td>\n",
              "      <td>117.24</td>\n",
              "      <td>125.08</td>\n",
              "      <td>288.57</td>\n",
              "    </tr>\n",
              "    <tr>\n",
              "      <th>cpi_change_country</th>\n",
              "      <td>2369.00</td>\n",
              "      <td>4.42</td>\n",
              "      <td>3.51</td>\n",
              "      <td>-1.90</td>\n",
              "      <td>1.70</td>\n",
              "      <td>2.90</td>\n",
              "      <td>7.50</td>\n",
              "      <td>53.50</td>\n",
              "    </tr>\n",
              "    <tr>\n",
              "      <th>gdp_country</th>\n",
              "      <td>2369.00</td>\n",
              "      <td>11778849420675.05</td>\n",
              "      <td>9564926447411.31</td>\n",
              "      <td>13672802158.00</td>\n",
              "      <td>1736425629520.00</td>\n",
              "      <td>19910000000000.00</td>\n",
              "      <td>21427700000000.00</td>\n",
              "      <td>21427700000000.00</td>\n",
              "    </tr>\n",
              "    <tr>\n",
              "      <th>gross_tertiary_education_enrollment</th>\n",
              "      <td>2369.00</td>\n",
              "      <td>67.45</td>\n",
              "      <td>21.44</td>\n",
              "      <td>4.00</td>\n",
              "      <td>50.60</td>\n",
              "      <td>67.00</td>\n",
              "      <td>88.20</td>\n",
              "      <td>136.60</td>\n",
              "    </tr>\n",
              "    <tr>\n",
              "      <th>gross_primary_education_enrollment_country</th>\n",
              "      <td>2369.00</td>\n",
              "      <td>102.87</td>\n",
              "      <td>4.76</td>\n",
              "      <td>84.70</td>\n",
              "      <td>100.20</td>\n",
              "      <td>101.80</td>\n",
              "      <td>102.60</td>\n",
              "      <td>142.10</td>\n",
              "    </tr>\n",
              "    <tr>\n",
              "      <th>life_expectancy_country</th>\n",
              "      <td>2369.00</td>\n",
              "      <td>78.09</td>\n",
              "      <td>3.75</td>\n",
              "      <td>54.30</td>\n",
              "      <td>77.00</td>\n",
              "      <td>78.50</td>\n",
              "      <td>80.90</td>\n",
              "      <td>84.20</td>\n",
              "    </tr>\n",
              "    <tr>\n",
              "      <th>tax_revenue_country_country</th>\n",
              "      <td>2369.00</td>\n",
              "      <td>12.55</td>\n",
              "      <td>5.38</td>\n",
              "      <td>0.10</td>\n",
              "      <td>9.60</td>\n",
              "      <td>9.60</td>\n",
              "      <td>12.80</td>\n",
              "      <td>37.20</td>\n",
              "    </tr>\n",
              "    <tr>\n",
              "      <th>total_tax_rate_country</th>\n",
              "      <td>2369.00</td>\n",
              "      <td>43.90</td>\n",
              "      <td>12.02</td>\n",
              "      <td>9.90</td>\n",
              "      <td>36.60</td>\n",
              "      <td>40.80</td>\n",
              "      <td>59.10</td>\n",
              "      <td>106.30</td>\n",
              "    </tr>\n",
              "    <tr>\n",
              "      <th>population_country</th>\n",
              "      <td>2369.00</td>\n",
              "      <td>514911096.60</td>\n",
              "      <td>552506486.35</td>\n",
              "      <td>645397.00</td>\n",
              "      <td>67059887.00</td>\n",
              "      <td>328239523.00</td>\n",
              "      <td>1366417754.00</td>\n",
              "      <td>1397715000.00</td>\n",
              "    </tr>\n",
              "    <tr>\n",
              "      <th>latitude_country</th>\n",
              "      <td>2369.00</td>\n",
              "      <td>34.79</td>\n",
              "      <td>17.03</td>\n",
              "      <td>-40.90</td>\n",
              "      <td>35.86</td>\n",
              "      <td>37.09</td>\n",
              "      <td>38.96</td>\n",
              "      <td>61.92</td>\n",
              "    </tr>\n",
              "    <tr>\n",
              "      <th>longitude_country</th>\n",
              "      <td>2369.00</td>\n",
              "      <td>11.68</td>\n",
              "      <td>87.48</td>\n",
              "      <td>-106.35</td>\n",
              "      <td>-95.71</td>\n",
              "      <td>10.45</td>\n",
              "      <td>104.20</td>\n",
              "      <td>174.89</td>\n",
              "    </tr>\n",
              "  </tbody>\n",
              "</table>\n",
              "</div>\n",
              "    <div class=\"colab-df-buttons\">\n",
              "\n",
              "  <div class=\"colab-df-container\">\n",
              "    <button class=\"colab-df-convert\" onclick=\"convertToInteractive('df-3f9302f0-36d0-458b-88a6-c8660c776b0b')\"\n",
              "            title=\"Convert this dataframe to an interactive table.\"\n",
              "            style=\"display:none;\">\n",
              "\n",
              "  <svg xmlns=\"http://www.w3.org/2000/svg\" height=\"24px\" viewBox=\"0 -960 960 960\">\n",
              "    <path d=\"M120-120v-720h720v720H120Zm60-500h600v-160H180v160Zm220 220h160v-160H400v160Zm0 220h160v-160H400v160ZM180-400h160v-160H180v160Zm440 0h160v-160H620v160ZM180-180h160v-160H180v160Zm440 0h160v-160H620v160Z\"/>\n",
              "  </svg>\n",
              "    </button>\n",
              "\n",
              "  <style>\n",
              "    .colab-df-container {\n",
              "      display:flex;\n",
              "      gap: 12px;\n",
              "    }\n",
              "\n",
              "    .colab-df-convert {\n",
              "      background-color: #E8F0FE;\n",
              "      border: none;\n",
              "      border-radius: 50%;\n",
              "      cursor: pointer;\n",
              "      display: none;\n",
              "      fill: #1967D2;\n",
              "      height: 32px;\n",
              "      padding: 0 0 0 0;\n",
              "      width: 32px;\n",
              "    }\n",
              "\n",
              "    .colab-df-convert:hover {\n",
              "      background-color: #E2EBFA;\n",
              "      box-shadow: 0px 1px 2px rgba(60, 64, 67, 0.3), 0px 1px 3px 1px rgba(60, 64, 67, 0.15);\n",
              "      fill: #174EA6;\n",
              "    }\n",
              "\n",
              "    .colab-df-buttons div {\n",
              "      margin-bottom: 4px;\n",
              "    }\n",
              "\n",
              "    [theme=dark] .colab-df-convert {\n",
              "      background-color: #3B4455;\n",
              "      fill: #D2E3FC;\n",
              "    }\n",
              "\n",
              "    [theme=dark] .colab-df-convert:hover {\n",
              "      background-color: #434B5C;\n",
              "      box-shadow: 0px 1px 3px 1px rgba(0, 0, 0, 0.15);\n",
              "      filter: drop-shadow(0px 1px 2px rgba(0, 0, 0, 0.3));\n",
              "      fill: #FFFFFF;\n",
              "    }\n",
              "  </style>\n",
              "\n",
              "    <script>\n",
              "      const buttonEl =\n",
              "        document.querySelector('#df-3f9302f0-36d0-458b-88a6-c8660c776b0b button.colab-df-convert');\n",
              "      buttonEl.style.display =\n",
              "        google.colab.kernel.accessAllowed ? 'block' : 'none';\n",
              "\n",
              "      async function convertToInteractive(key) {\n",
              "        const element = document.querySelector('#df-3f9302f0-36d0-458b-88a6-c8660c776b0b');\n",
              "        const dataTable =\n",
              "          await google.colab.kernel.invokeFunction('convertToInteractive',\n",
              "                                                    [key], {});\n",
              "        if (!dataTable) return;\n",
              "\n",
              "        const docLinkHtml = 'Like what you see? Visit the ' +\n",
              "          '<a target=\"_blank\" href=https://colab.research.google.com/notebooks/data_table.ipynb>data table notebook</a>'\n",
              "          + ' to learn more about interactive tables.';\n",
              "        element.innerHTML = '';\n",
              "        dataTable['output_type'] = 'display_data';\n",
              "        await google.colab.output.renderOutput(dataTable, element);\n",
              "        const docLink = document.createElement('div');\n",
              "        docLink.innerHTML = docLinkHtml;\n",
              "        element.appendChild(docLink);\n",
              "      }\n",
              "    </script>\n",
              "  </div>\n",
              "\n",
              "\n",
              "<div id=\"df-ca8ee906-bb6c-42b1-8d76-534931c9a383\">\n",
              "  <button class=\"colab-df-quickchart\" onclick=\"quickchart('df-ca8ee906-bb6c-42b1-8d76-534931c9a383')\"\n",
              "            title=\"Suggest charts\"\n",
              "            style=\"display:none;\">\n",
              "\n",
              "<svg xmlns=\"http://www.w3.org/2000/svg\" height=\"24px\"viewBox=\"0 0 24 24\"\n",
              "     width=\"24px\">\n",
              "    <g>\n",
              "        <path d=\"M19 3H5c-1.1 0-2 .9-2 2v14c0 1.1.9 2 2 2h14c1.1 0 2-.9 2-2V5c0-1.1-.9-2-2-2zM9 17H7v-7h2v7zm4 0h-2V7h2v10zm4 0h-2v-4h2v4z\"/>\n",
              "    </g>\n",
              "</svg>\n",
              "  </button>\n",
              "\n",
              "<style>\n",
              "  .colab-df-quickchart {\n",
              "      --bg-color: #E8F0FE;\n",
              "      --fill-color: #1967D2;\n",
              "      --hover-bg-color: #E2EBFA;\n",
              "      --hover-fill-color: #174EA6;\n",
              "      --disabled-fill-color: #AAA;\n",
              "      --disabled-bg-color: #DDD;\n",
              "  }\n",
              "\n",
              "  [theme=dark] .colab-df-quickchart {\n",
              "      --bg-color: #3B4455;\n",
              "      --fill-color: #D2E3FC;\n",
              "      --hover-bg-color: #434B5C;\n",
              "      --hover-fill-color: #FFFFFF;\n",
              "      --disabled-bg-color: #3B4455;\n",
              "      --disabled-fill-color: #666;\n",
              "  }\n",
              "\n",
              "  .colab-df-quickchart {\n",
              "    background-color: var(--bg-color);\n",
              "    border: none;\n",
              "    border-radius: 50%;\n",
              "    cursor: pointer;\n",
              "    display: none;\n",
              "    fill: var(--fill-color);\n",
              "    height: 32px;\n",
              "    padding: 0;\n",
              "    width: 32px;\n",
              "  }\n",
              "\n",
              "  .colab-df-quickchart:hover {\n",
              "    background-color: var(--hover-bg-color);\n",
              "    box-shadow: 0 1px 2px rgba(60, 64, 67, 0.3), 0 1px 3px 1px rgba(60, 64, 67, 0.15);\n",
              "    fill: var(--button-hover-fill-color);\n",
              "  }\n",
              "\n",
              "  .colab-df-quickchart-complete:disabled,\n",
              "  .colab-df-quickchart-complete:disabled:hover {\n",
              "    background-color: var(--disabled-bg-color);\n",
              "    fill: var(--disabled-fill-color);\n",
              "    box-shadow: none;\n",
              "  }\n",
              "\n",
              "  .colab-df-spinner {\n",
              "    border: 2px solid var(--fill-color);\n",
              "    border-color: transparent;\n",
              "    border-bottom-color: var(--fill-color);\n",
              "    animation:\n",
              "      spin 1s steps(1) infinite;\n",
              "  }\n",
              "\n",
              "  @keyframes spin {\n",
              "    0% {\n",
              "      border-color: transparent;\n",
              "      border-bottom-color: var(--fill-color);\n",
              "      border-left-color: var(--fill-color);\n",
              "    }\n",
              "    20% {\n",
              "      border-color: transparent;\n",
              "      border-left-color: var(--fill-color);\n",
              "      border-top-color: var(--fill-color);\n",
              "    }\n",
              "    30% {\n",
              "      border-color: transparent;\n",
              "      border-left-color: var(--fill-color);\n",
              "      border-top-color: var(--fill-color);\n",
              "      border-right-color: var(--fill-color);\n",
              "    }\n",
              "    40% {\n",
              "      border-color: transparent;\n",
              "      border-right-color: var(--fill-color);\n",
              "      border-top-color: var(--fill-color);\n",
              "    }\n",
              "    60% {\n",
              "      border-color: transparent;\n",
              "      border-right-color: var(--fill-color);\n",
              "    }\n",
              "    80% {\n",
              "      border-color: transparent;\n",
              "      border-right-color: var(--fill-color);\n",
              "      border-bottom-color: var(--fill-color);\n",
              "    }\n",
              "    90% {\n",
              "      border-color: transparent;\n",
              "      border-bottom-color: var(--fill-color);\n",
              "    }\n",
              "  }\n",
              "</style>\n",
              "\n",
              "  <script>\n",
              "    async function quickchart(key) {\n",
              "      const quickchartButtonEl =\n",
              "        document.querySelector('#' + key + ' button');\n",
              "      quickchartButtonEl.disabled = true;  // To prevent multiple clicks.\n",
              "      quickchartButtonEl.classList.add('colab-df-spinner');\n",
              "      try {\n",
              "        const charts = await google.colab.kernel.invokeFunction(\n",
              "            'suggestCharts', [key], {});\n",
              "      } catch (error) {\n",
              "        console.error('Error during call to suggestCharts:', error);\n",
              "      }\n",
              "      quickchartButtonEl.classList.remove('colab-df-spinner');\n",
              "      quickchartButtonEl.classList.add('colab-df-quickchart-complete');\n",
              "    }\n",
              "    (() => {\n",
              "      let quickchartButtonEl =\n",
              "        document.querySelector('#df-ca8ee906-bb6c-42b1-8d76-534931c9a383 button');\n",
              "      quickchartButtonEl.style.display =\n",
              "        google.colab.kernel.accessAllowed ? 'block' : 'none';\n",
              "    })();\n",
              "  </script>\n",
              "</div>\n",
              "    </div>\n",
              "  </div>\n"
            ],
            "text/plain": [
              "                                             count              mean  \\\n",
              "rank                                       2369.00           1275.33   \n",
              "finalWorth                                 2369.00           4783.12   \n",
              "age                                        2369.00             65.06   \n",
              "cpi_country                                2369.00            128.01   \n",
              "cpi_change_country                         2369.00              4.42   \n",
              "gdp_country                                2369.00 11778849420675.05   \n",
              "gross_tertiary_education_enrollment        2369.00             67.45   \n",
              "gross_primary_education_enrollment_country 2369.00            102.87   \n",
              "life_expectancy_country                    2369.00             78.09   \n",
              "tax_revenue_country_country                2369.00             12.55   \n",
              "total_tax_rate_country                     2369.00             43.90   \n",
              "population_country                         2369.00      514911096.60   \n",
              "latitude_country                           2369.00             34.79   \n",
              "longitude_country                          2369.00             11.68   \n",
              "\n",
              "                                                        std            min  \\\n",
              "rank                                                 743.48           1.00   \n",
              "finalWorth                                         10287.71        1000.00   \n",
              "age                                                   13.10          18.00   \n",
              "cpi_country                                           26.70          99.55   \n",
              "cpi_change_country                                     3.51          -1.90   \n",
              "gdp_country                                9564926447411.31 13672802158.00   \n",
              "gross_tertiary_education_enrollment                   21.44           4.00   \n",
              "gross_primary_education_enrollment_country             4.76          84.70   \n",
              "life_expectancy_country                                3.75          54.30   \n",
              "tax_revenue_country_country                            5.38           0.10   \n",
              "total_tax_rate_country                                12.02           9.90   \n",
              "population_country                             552506486.35      645397.00   \n",
              "latitude_country                                      17.03         -40.90   \n",
              "longitude_country                                     87.48        -106.35   \n",
              "\n",
              "                                                        25%               50%  \\\n",
              "rank                                                 636.00           1272.00   \n",
              "finalWorth                                          1500.00           2400.00   \n",
              "age                                                   56.00             65.00   \n",
              "cpi_country                                          117.24            117.24   \n",
              "cpi_change_country                                     1.70              2.90   \n",
              "gdp_country                                1736425629520.00 19910000000000.00   \n",
              "gross_tertiary_education_enrollment                   50.60             67.00   \n",
              "gross_primary_education_enrollment_country           100.20            101.80   \n",
              "life_expectancy_country                               77.00             78.50   \n",
              "tax_revenue_country_country                            9.60              9.60   \n",
              "total_tax_rate_country                                36.60             40.80   \n",
              "population_country                              67059887.00      328239523.00   \n",
              "latitude_country                                      35.86             37.09   \n",
              "longitude_country                                    -95.71             10.45   \n",
              "\n",
              "                                                         75%               max  \n",
              "rank                                                 1905.00           2540.00  \n",
              "finalWorth                                           4300.00         211000.00  \n",
              "age                                                    75.00            101.00  \n",
              "cpi_country                                           125.08            288.57  \n",
              "cpi_change_country                                      7.50             53.50  \n",
              "gdp_country                                21427700000000.00 21427700000000.00  \n",
              "gross_tertiary_education_enrollment                    88.20            136.60  \n",
              "gross_primary_education_enrollment_country            102.60            142.10  \n",
              "life_expectancy_country                                80.90             84.20  \n",
              "tax_revenue_country_country                            12.80             37.20  \n",
              "total_tax_rate_country                                 59.10            106.30  \n",
              "population_country                             1366417754.00     1397715000.00  \n",
              "latitude_country                                       38.96             61.92  \n",
              "longitude_country                                     104.20            174.89  "
            ]
          },
          "execution_count": 24,
          "metadata": {},
          "output_type": "execute_result"
        }
      ],
      "source": [
        "pd.set_option('display.float_format', '{:.2f}'.format)\n",
        "df.describe(include=['int','float']).T.round(2)"
      ]
    },
    {
      "cell_type": "code",
      "execution_count": 25,
      "id": "RrgdSfimSuI9",
      "metadata": {
        "colab": {
          "base_uri": "https://localhost:8080/"
        },
        "id": "RrgdSfimSuI9",
        "outputId": "649e6259-d1fa-41e2-f882-c08bb1881592"
      },
      "outputs": [
        {
          "name": "stdout",
          "output_type": "stream",
          "text": [
            "Total Number of Billionaires in the World in 2022: 2369\n",
            "The Average Age of Billionaires: 65.06\n"
          ]
        }
      ],
      "source": [
        "total_billionaire = (df['personName'].count())\n",
        "print(f'Total Number of Billionaires in the World in 2022: {total_billionaire}')\n",
        "\n",
        "avg_age = round(df['age'].mean(),2)\n",
        "print(f'The Average Age of Billionaires: {avg_age}')"
      ]
    },
    {
      "cell_type": "code",
      "execution_count": 26,
      "id": "hX3M5B7PUXLY",
      "metadata": {
        "colab": {
          "base_uri": "https://localhost:8080/"
        },
        "id": "hX3M5B7PUXLY",
        "outputId": "4ccd1edb-e395-4f7a-ba23-c10dfce06979"
      },
      "outputs": [
        {
          "name": "stdout",
          "output_type": "stream",
          "text": [
            "Percentage % of Males and Females in the Dataset: \n",
            "M   88.22\n",
            "F   11.78\n",
            "Name: gender, dtype: float64\n"
          ]
        }
      ],
      "source": [
        "# Calculate the percentage of males and females\n",
        "gender_counts = (df['gender'].value_counts(normalize=True)*100).round(2)\n",
        "\n",
        "# Display the result\n",
        "print(f'Percentage % of Males and Females in the Dataset: \\n{gender_counts}')"
      ]
    },
    {
      "cell_type": "code",
      "execution_count": 27,
      "id": "va6M3LnAXtec",
      "metadata": {
        "colab": {
          "base_uri": "https://localhost:8080/"
        },
        "id": "va6M3LnAXtec",
        "outputId": "1092f662-e773-4a25-dac9-5d04b968ea07"
      },
      "outputs": [
        {
          "name": "stdout",
          "output_type": "stream",
          "text": [
            "Percentage % of Selfmade Billionaires: \n",
            "True    70.33\n",
            "False   29.67\n",
            "Name: selfMade, dtype: float64\n"
          ]
        }
      ],
      "source": [
        "# Calculate the percentage of males and females\n",
        "selfmade_ratio = (df['selfMade'].value_counts(normalize=True)*100).round(2)\n",
        "\n",
        "# Display the result\n",
        "print(f'Percentage % of Selfmade Billionaires: \\n{selfmade_ratio}')"
      ]
    },
    {
      "cell_type": "markdown",
      "id": "TvH2Ff5Zy_hZ",
      "metadata": {
        "id": "TvH2Ff5Zy_hZ"
      },
      "source": [
        "# Bootstrap\n"
      ]
    },
    {
      "cell_type": "code",
      "execution_count": 37,
      "id": "3yiqJLVGRRs1",
      "metadata": {
        "id": "3yiqJLVGRRs1"
      },
      "outputs": [],
      "source": [
        "# selfmade 1\n",
        "df_sm = df[df['selfMade'] == True][['selfMade','finalWorth']] # the selfmade billionaires\n",
        "df_nsm = df[df['selfMade'] == False][['selfMade','finalWorth']] # inherited billionaires\n",
        "\n",
        "n_sm = df_sm.shape[0] # number of selfmade billionaires\n",
        "n_nsm = df_nsm.shape[0] # number of inherited billionaries"
      ]
    },
    {
      "cell_type": "code",
      "execution_count": 38,
      "id": "ew-0WXn6RXan",
      "metadata": {
        "id": "ew-0WXn6RXan"
      },
      "outputs": [],
      "source": [
        "# selfmade 2\n",
        "NBOOT = 10000 # number of bootstrap replicates to build\n",
        "N = 100\n",
        "\n",
        "Simulation_sm = np.random.choice(df_sm[\"finalWorth\"], size = (NBOOT, N), replace = True) # Nboot x N matrix of bootstrap samples\n",
        "Simulation_nsm = np.random.choice(df_nsm[\"finalWorth\"], size = (NBOOT, N), replace = True) # Nboot x N matrix of bootstrap samples\n",
        "\n",
        "Richest_sm = np.max(Simulation_sm, axis = 1) # the wealthiest for each bootstrap sample\n",
        "Richest_nsm = np.max(Simulation_nsm, axis = 1) # the wealthiest for each bootstrap sample\n",
        "\n",
        "# compute the difference in wealth between the two groups\n",
        "Diff = Richest_sm - Richest_nsm\n",
        "\n",
        "Mean_women = np.mean(Simulation_sm, axis = 1)\n",
        "Mean_men = np.mean(Simulation_nsm, axis=1)\n",
        "\n",
        "Std_sm = np.std(Simulation_sm, axis = 1)\n",
        "Std_nsm = np.std(Simulation_nsm, axis = 1)"
      ]
    },
    {
      "cell_type": "code",
      "execution_count": 39,
      "id": "Xd41P4CMziP8",
      "metadata": {
        "id": "Xd41P4CMziP8"
      },
      "outputs": [],
      "source": [
        "# gender 1\n",
        "df_f = df[df['gender'] == \"F\"][['gender','finalWorth']] # the wealths of the women\n",
        "df_m = df[df['gender'] == \"M\"][['gender','finalWorth']] # the wealths of the men\n",
        "\n",
        "n_f = df_f.shape[0] # number of female billionaire\n",
        "n_m = df_m.shape[0] # number of male billionaire"
      ]
    },
    {
      "cell_type": "code",
      "execution_count": 40,
      "id": "zw0aw6HNzWb6",
      "metadata": {
        "id": "zw0aw6HNzWb6"
      },
      "outputs": [],
      "source": [
        "# gender 2\n",
        "NBOOT = 10000 # number of bootstrap replicates to build\n",
        "N = 100 # np.min([n_f, n_m]) # let's fix the size of each group to be equal, to avoid problems with the varying number of billionaires\n",
        "\n",
        "Simulation_women = np.random.choice(df_f[\"finalWorth\"], size = (NBOOT, N), replace = True) # Nboot x N matrix of bootstrap samples\n",
        "Simulation_men = np.random.choice(df_m[\"finalWorth\"], size = (NBOOT, N), replace = True) # Nboot x N matrix of bootstrap samples\n",
        "\n",
        "Richest_women = np.max(Simulation_women, axis = 1) # the wealthiest for each bootstrap sample\n",
        "Richest_men = np.max(Simulation_men, axis = 1) # the wealthiest for each bootstrap sample\n",
        "\n",
        "# compute the difference in wealth between the two groups\n",
        "Diff = Richest_women - Richest_men\n",
        "\n",
        "Mean_women = np.mean(Simulation_women, axis = 1)\n",
        "Mean_men = np.mean(Simulation_men, axis=1)\n",
        "\n",
        "Std_women = np.std(Simulation_women, axis = 1)\n",
        "Std_men = np.std(Simulation_men, axis = 1)"
      ]
    },
    {
      "cell_type": "code",
      "execution_count": 41,
      "id": "22iIqqMyzGNq",
      "metadata": {
        "colab": {
          "base_uri": "https://localhost:8080/",
          "height": 700
        },
        "id": "22iIqqMyzGNq",
        "outputId": "144f0e79-4345-4516-b8df-d73da8ec7cae"
      },
      "outputs": [
        {
          "data": {
            "image/png": "[encoded data removed]",
            "text/plain": [
              "<Figure size 2000x800 with 2 Axes>"
            ]
          },
          "metadata": {},
          "output_type": "display_data"
        }
      ],
      "source": [
        "average_of_difference = (Simulation_men - Simulation_women).mean(axis=1)\n",
        "mins = Simulation_men.min(axis=1) - Simulation_women.min(axis=1)\n",
        "\n",
        "# Concatenate the simulations and keep track of the gender\n",
        "Simulation_all_gender = np.concatenate((Simulation_men, Simulation_women), axis=1)\n",
        "gender = np.array([0] * Simulation_men.shape[1] + [1] * Simulation_women.shape[1])\n",
        "# Concatenate the simulations and keep track of the selfmade\n",
        "Simulation_all_sm = np.concatenate((Simulation_nsm, Simulation_sm), axis=1)\n",
        "selfmade = np.array([0] * Simulation_nsm.shape[1] + [1] * Simulation_sm.shape[1])\n",
        "\n",
        "# Get the indices that would sort the array\n",
        "sorted_indices_gender = np.argsort(Simulation_all_gender, axis=1)\n",
        "sorted_indices_sm = np.argsort(Simulation_all_sm, axis=1)\n",
        "\n",
        "plt.style.use(\"cyberpunk\")\n",
        "\n",
        "fig, axs = plt.subplots(1, 2, figsize=(20, 8))\n",
        "ax = axs[0]\n",
        "\n",
        "\n",
        "for k, c in zip(\n",
        "    [1, 10, 20, 50], [rgb.tue_red, rgb.tue_blue, rgb.tue_green, rgb.tue_orange]\n",
        "):\n",
        "    # Check if the indices of the girls are in the top k\n",
        "    top_k_girls = np.isin(\n",
        "        sorted_indices_gender[:, :k],\n",
        "        np.arange(Simulation_men.shape[1], Simulation_all_gender.shape[1]),\n",
        "    )\n",
        "\n",
        "    # Compute the percentage of the top k runners that are girls\n",
        "    percentage_girls = top_k_girls.mean(axis=1) * 100\n",
        "\n",
        "    ax.hist(\n",
        "        percentage_girls,\n",
        "        bins=20,\n",
        "        density=True,\n",
        "        color=c,\n",
        "        alpha=0.5,\n",
        "        label=f\"top {k}\",\n",
        "    )\n",
        "\n",
        "ax.legend(loc=\"upper left\", framealpha=1.0, facecolor=\"white\", edgecolor=\"none\", fontsize = \"large\")\n",
        "ax.set_xlabel(\"female proportion in the top $k$ billionaires\", fontsize=14)\n",
        "ax.xaxis.set_major_locator(ticker.MultipleLocator(25))\n",
        "ax.xaxis.set_major_formatter(ticker.PercentFormatter())\n",
        "ax.yaxis.set_visible(False)\n",
        "ax.grid(axis = 'x', which = 'major', alpha = 0.5)\n",
        "ax.axvline(50, color = \"white\", alpha = 1.0, lw=1)\n",
        "\n",
        "ax = axs[1]\n",
        "\n",
        "for k, c in zip(\n",
        "    [1, 10, 20, 50], [rgb.tue_red, rgb.tue_blue, rgb.tue_green, rgb.tue_orange]\n",
        "):\n",
        "    # Check if the indices of the girls are in the top k\n",
        "    top_k_selfmade = np.isin(\n",
        "        sorted_indices_sm[:, :k],\n",
        "        np.arange(Simulation_nsm.shape[1], Simulation_all_sm.shape[1]),\n",
        "    )\n",
        "\n",
        "    # Compute the percentage of the top k runners that are girls\n",
        "    percentage_selfmade = top_k_selfmade.mean(axis=1) * 100\n",
        "\n",
        "    ax.hist(\n",
        "        percentage_selfmade,\n",
        "        bins=20,\n",
        "        density=True,\n",
        "        color=c,\n",
        "        alpha=0.5,\n",
        "        label=f\"top {k}\",\n",
        "    )\n",
        "\n",
        "ax.set_xlabel(\"selfmade proportion in the top $k$ billionaires\", fontsize=14)\n",
        "ax.xaxis.set_major_locator(ticker.MultipleLocator(25))\n",
        "ax.xaxis.set_major_formatter(ticker.PercentFormatter())\n",
        "ax.yaxis.set_visible(False)\n",
        "ax.grid(axis = 'x', which = 'major', alpha = 0.5)\n",
        "ax.axvline(50, color = \"white\", alpha = 1.0, lw=1)\n",
        "\n",
        "fig.savefig(\"gender_selfmade.pdf\")"
      ]
    },
    {
      "cell_type": "code",
      "execution_count": 42,
      "id": "3g1B6b7rAhfI",
      "metadata": {
        "colab": {
          "base_uri": "https://localhost:8080/",
          "height": 647
        },
        "id": "3g1B6b7rAhfI",
        "outputId": "fdce33be-9536-489b-8890-72503e01b17c"
      },
      "outputs": [
        {
          "data": {
            "image/png": "[encoded data removed]",
            "text/plain": [
              "<Figure size 2000x800 with 2 Axes>"
            ]
          },
          "metadata": {},
          "output_type": "display_data"
        }
      ],
      "source": [
        "class rgb:\n",
        "    tue_red = '#FF355E'\n",
        "    tue_blue = '#4B77BE'\n",
        "    tue_green = '#8CD211'\n",
        "    tue_orange = '#FF884D'\n",
        "    tue_dark = '#1f2a48'\n",
        "\n",
        "# Set Cyberpunk-style color palette\n",
        "cp_palette = [rgb.tue_red, rgb.tue_blue, rgb.tue_green, rgb.tue_orange]\n",
        "\n",
        "plt.rcParams['axes.facecolor'] = rgb.tue_dark\n",
        "# Create subplots\n",
        "fig, axs = plt.subplots(1, 2, figsize=(20, 8))\n",
        "\n",
        "# Plot for selfmade proportion\n",
        "ax = axs[0]\n",
        "for k, c in zip([1, 10, 20, 50], cp_palette):\n",
        "    top_k_selfmade = np.isin(\n",
        "        sorted_indices_sm[:, :k],\n",
        "        np.arange(Simulation_nsm.shape[1], Simulation_all_sm.shape[1]),\n",
        "    )\n",
        "    percentage_selfmade = top_k_selfmade.mean(axis=1) * 100\n",
        "    ax.hist(\n",
        "        percentage_selfmade,\n",
        "        bins=20,\n",
        "        density=True,\n",
        "        color=c,\n",
        "        alpha=0.5,\n",
        "        label=f\"top {k}\",\n",
        "    )\n",
        "\n",
        "ax.legend(loc=\"upper left\", framealpha=1.0, facecolor=\"black\", edgecolor=\"none\", fontsize='small')\n",
        "ax.set_xlabel(\"Selfmade Proportion in the Top $k$ Billionaires\", color='white')\n",
        "ax.xaxis.set_major_locator(ticker.MultipleLocator(25))\n",
        "ax.xaxis.set_major_formatter(ticker.PercentFormatter())\n",
        "ax.yaxis.set_visible(False)\n",
        "ax.grid(axis='x', which='major', alpha=0.5)\n",
        "ax.axvline(50, color=\"white\", alpha=1.0, lw=1)\n",
        "\n",
        "# Plot for female proportion\n",
        "ax = axs[1]\n",
        "for k, c in zip([1, 10, 20, 50], cp_palette):\n",
        "    top_k_girls = np.isin(\n",
        "        sorted_indices_gender[:, :k],\n",
        "        np.arange(Simulation_men.shape[1], Simulation_all_gender.shape[1]),\n",
        "    )\n",
        "    percentage_girls = top_k_girls.mean(axis=1) * 100\n",
        "    ax.hist(\n",
        "        percentage_girls,\n",
        "        bins=20,\n",
        "        density=True,\n",
        "        color=c,\n",
        "        alpha=0.5,\n",
        "        label=f\"top {k}\",\n",
        "    )\n",
        "\n",
        "ax.set_xlabel(\"Female Proportion in the Top $k$ Billionaires\", color='white')\n",
        "ax.xaxis.set_major_locator(ticker.MultipleLocator(25))\n",
        "ax.xaxis.set_major_formatter(ticker.PercentFormatter())\n",
        "ax.yaxis.set_visible(False)\n",
        "ax.grid(axis='x', which='major', alpha=0.5)\n",
        "ax.axvline(50, color=\"white\", alpha=1.0, lw=1)\n",
        "\n",
        "plt.tight_layout()\n",
        "plt.show()\n"
      ]
    },
    {
      "cell_type": "code",
      "execution_count": 43,
      "id": "gSqp0ike5zM5",
      "metadata": {
        "colab": {
          "base_uri": "https://localhost:8080/"
        },
        "id": "gSqp0ike5zM5",
        "outputId": "e2ada4ac-f570-4c8d-942f-ce2003046369"
      },
      "outputs": [
        {
          "name": "stdout",
          "output_type": "stream",
          "text": [
            "The number of selfmade woman:81\n",
            " The ratio of selfmade among woman billionaires: 29.03%\n",
            " The number of selfmade man:1585\n",
            " The ratio of selfmade among man billionaires: 75.84%\n",
            " The number of inherited woman:198\n",
            " The ratio of inherited among woman billionaires: 70.97%\n",
            " The number of inherited man:505\n",
            " The ratio of inherited among man billionaires: 24.16%\n",
            "\n"
          ]
        }
      ],
      "source": [
        "# find the number of selfmade woman-man\n",
        "# inherited man-woman, numbers and the ratios\n",
        "sm_w = df[(df['selfMade'] == True) & (df['gender'] == \"F\")][['gender','selfMade','finalWorth']] # the selfmade women\n",
        "sm_m = df[(df['selfMade'] == True) & (df['gender'] == \"M\")][['gender','selfMade','finalWorth']] # the selfmade men\n",
        "in_w = df[(df['selfMade'] == False) & (df['gender'] == \"F\")][['gender','selfMade','finalWorth']] # the inherited women\n",
        "in_m = df[(df['selfMade'] == False) & (df['gender'] == \"M\")][['gender','selfMade','finalWorth']] # the inherited women\n",
        "\n",
        "n_sm_w = sm_w.shape[0]\n",
        "n_sm_m = sm_m.shape[0]\n",
        "n_in_w = in_w.shape[0]\n",
        "n_in_m = in_m.shape[0]\n",
        "\n",
        "print(f\"The number of selfmade woman:{n_sm_w}\\n\", f\"The ratio of selfmade among woman billionaires: {round(n_sm_w/n_f*100,2)}%\\n\",\n",
        "      f\"The number of selfmade man:{n_sm_m}\\n\", f\"The ratio of selfmade among man billionaires: {round(n_sm_m/n_m*100,2)}%\\n\",\n",
        "      f\"The number of inherited woman:{n_in_w}\\n\", f\"The ratio of inherited among woman billionaires: {round(n_in_w/n_f*100,2)}%\\n\",\n",
        "      f\"The number of inherited man:{n_in_m}\\n\", f\"The ratio of inherited among man billionaires: {round(n_in_m/n_m*100,2)}%\\n\"\n",
        "      )"
      ]
    },
    {
      "cell_type": "code",
      "execution_count": 45,
      "id": "FepLap0mBxon",
      "metadata": {
        "colab": {
          "base_uri": "https://localhost:8080/",
          "height": 465
        },
        "id": "FepLap0mBxon",
        "outputId": "9f602d69-46c3-4b07-9a3a-20aa9dfeb812"
      },
      "outputs": [
        {
          "data": {
            "image/png": "[encoded data removed]",
            "text/plain": [
              "<Figure size 640x480 with 1 Axes>"
            ]
          },
          "metadata": {},
          "output_type": "display_data"
        }
      ],
      "source": [
        "# Set the cyberpunk style\n",
        "from matplotlib import style\n",
        "style.use('cyberpunk')\n",
        "\n",
        "# Data\n",
        "categories = ['Selfmade Women', 'Selfmade Men', 'Inherited Women', 'Inherited Men']\n",
        "counts = [n_sm_w, n_sm_m, n_in_w, n_in_m]\n",
        "\n",
        "# Create a bar graph\n",
        "plt.bar(categories, counts, color=[rgb.tue_red, rgb.tue_blue, rgb.tue_orange, rgb.tue_green], alpha=0.5)\n",
        "\n",
        "# Add labels and title\n",
        "plt.xlabel('Categories')\n",
        "plt.ylabel('Number of Billionaires')\n",
        "plt.title('Comparison of Selfmade and Inherited Individuals by Gender')\n",
        "\n",
        "# Show the graph\n",
        "plt.show()"
      ]
    },
    {
      "cell_type": "code",
      "execution_count": 46,
      "id": "I3b54hnQFvMx",
      "metadata": {
        "id": "I3b54hnQFvMx"
      },
      "outputs": [],
      "source": [
        "# selfmade-inherited woman\n",
        "NBOOT = 10000 # number of bootstrap replicates to build\n",
        "N = 100 # np.min([n_f, n_m]) # let's fix the size of each group to be equal, to avoid problems with the varying number of billionaires\n",
        "\n",
        "Simulation_sm_women = np.random.choice(sm_w[\"finalWorth\"], size = (NBOOT, N), replace = True) # Nboot x N matrix of bootstrap samples\n",
        "Simulation_in_women = np.random.choice(in_w[\"finalWorth\"], size = (NBOOT, N), replace = True) # Nboot x N matrix of bootstrap samples\n",
        "\n",
        "Richest_sm_women = np.max(Simulation_sm_women, axis = 1) # the wealthiest for each bootstrap sample\n",
        "Richest_in_women = np.max(Simulation_in_women, axis = 1) # the wealthiest for each bootstrap sample\n",
        "\n",
        "# compute the difference in wealth between the two groups\n",
        "Diff = Richest_sm_women - Richest_in_women\n",
        "\n",
        "Mean_sm_women = np.mean(Simulation_sm_women, axis = 1)\n",
        "Mean_in_women = np.mean(Simulation_in_women, axis=1)\n",
        "\n",
        "Std_sm_women = np.std(Simulation_sm_women, axis = 1)\n",
        "Std_in_women = np.std(Simulation_in_women, axis = 1)"
      ]
    },
    {
      "cell_type": "code",
      "execution_count": 47,
      "id": "9EApnYEhGGFi",
      "metadata": {
        "id": "9EApnYEhGGFi"
      },
      "outputs": [],
      "source": [
        "# selfmade-inherited man\n",
        "NBOOT = 10000 # number of bootstrap replicates to build\n",
        "N = 100 # np.min([n_f, n_m]) # let's fix the size of each group to be equal, to avoid problems with the varying number of billionaires\n",
        "\n",
        "Simulation_sm_men = np.random.choice(sm_m[\"finalWorth\"], size = (NBOOT, N), replace = True) # Nboot x N matrix of bootstrap samples\n",
        "Simulation_in_men = np.random.choice(in_m[\"finalWorth\"], size = (NBOOT, N), replace = True) # Nboot x N matrix of bootstrap samples\n",
        "\n",
        "Richest_sm_men = np.max(Simulation_sm_men, axis = 1) # the wealthiest for each bootstrap sample\n",
        "Richest_in_men = np.max(Simulation_in_men, axis = 1) # the wealthiest for each bootstrap sample\n",
        "\n",
        "# compute the difference in wealth between the two groups\n",
        "Diff = Richest_sm_men - Richest_in_men\n",
        "\n",
        "Mean_sm_men = np.mean(Simulation_sm_men, axis = 1)\n",
        "Mean_in_men = np.mean(Simulation_in_men, axis=1)\n",
        "\n",
        "Std_sm_men = np.std(Simulation_sm_men, axis = 1)\n",
        "Std_in_men = np.std(Simulation_in_men, axis = 1)"
      ]
    },
    {
      "cell_type": "code",
      "execution_count": 52,
      "id": "BZrPEJg1E-PC",
      "metadata": {
        "colab": {
          "base_uri": "https://localhost:8080/",
          "height": 546
        },
        "id": "BZrPEJg1E-PC",
        "outputId": "9ea6fec7-1f6b-472e-9d79-5d8633f0f5bc"
      },
      "outputs": [
        {
          "data": {
            "image/png": "[encoded data removed]",
            "text/plain": [
              "<Figure size 1500x600 with 2 Axes>"
            ]
          },
          "metadata": {},
          "output_type": "display_data"
        }
      ],
      "source": [
        "# Concatenate the simulations and keep track of the females\n",
        "Simulation_all_women = np.concatenate((Simulation_sm_women, Simulation_in_women), axis=1)\n",
        "women = np.array([0] * Simulation_sm_women.shape[1] + [1] * Simulation_in_women.shape[1])\n",
        "# Concatenate the simulations and keep track of the males\n",
        "Simulation_all_men = np.concatenate((Simulation_sm_men, Simulation_in_men), axis=1)\n",
        "men = np.array([0] * Simulation_sm_men.shape[1] + [1] * Simulation_in_men.shape[1])\n",
        "\n",
        "# Get the indices that would sort the array\n",
        "sorted_indices_gender = np.argsort(Simulation_all_women, axis=1)\n",
        "sorted_indices_sm = np.argsort(Simulation_all_men, axis=1)\n",
        "\n",
        "plt.style.use(\"cyberpunk\")\n",
        "\n",
        "fig, axs = plt.subplots(1, 2, figsize=(15, 6))\n",
        "ax = axs[0]\n",
        "\n",
        "\n",
        "for k, c in zip(\n",
        "    [1, 10, 20, 50], [rgb.tue_red, rgb.tue_blue, rgb.tue_green, rgb.tue_orange]\n",
        "):\n",
        "    # Check if the indices of the girls are in the top k\n",
        "    top_k_girls = np.isin(\n",
        "        sorted_indices_gender[:, :k],\n",
        "        np.arange(Simulation_sm_women.shape[1], Simulation_all_women.shape[1]),\n",
        "    )\n",
        "\n",
        "    # Compute the percentage of the top k runners that are girls\n",
        "    percentage_girls = top_k_girls.mean(axis=1) * 100\n",
        "\n",
        "    ax.hist(\n",
        "        percentage_girls,\n",
        "        bins=20,\n",
        "        density=True,\n",
        "        color=c,\n",
        "        alpha=0.5,\n",
        "        label=f\"top {k}\",\n",
        "    )\n",
        "\n",
        "ax.legend(loc=\"upper left\", framealpha=1.0, facecolor=\"white\", edgecolor=\"none\", fontsize = \"large\")\n",
        "ax.set_xlabel(\"Selfmade proportion in the top $k$ female billionaires\", fontsize=14)\n",
        "ax.xaxis.set_major_locator(ticker.MultipleLocator(25))\n",
        "ax.xaxis.set_major_formatter(ticker.PercentFormatter())\n",
        "ax.yaxis.set_visible(False)\n",
        "ax.grid(axis = 'x', which = 'major', alpha = 0.5)\n",
        "ax.axvline(50, color = \"white\", alpha = 1.0, lw=1)\n",
        "\n",
        "ax = axs[1]\n",
        "\n",
        "for k, c in zip(\n",
        "    [1, 10, 20, 50], [rgb.tue_red, rgb.tue_blue, rgb.tue_green, rgb.tue_orange]\n",
        "):\n",
        "    # Check if the indices of the girls are in the top k\n",
        "    top_k_selfmade = np.isin(\n",
        "        sorted_indices_sm[:, :k],\n",
        "        np.arange(Simulation_sm_men.shape[1], Simulation_all_men.shape[1]),\n",
        "    )\n",
        "\n",
        "    # Compute the percentage of the top k runners that are girls\n",
        "    percentage_selfmade = top_k_selfmade.mean(axis=1) * 100\n",
        "\n",
        "    ax.hist(\n",
        "        percentage_selfmade,\n",
        "        bins=20,\n",
        "        density=True,\n",
        "        color=c,\n",
        "        alpha=0.5,\n",
        "        label=f\"top {k}\",\n",
        "    )\n",
        "\n",
        "ax.set_xlabel(\"Selfmade proportion in the top $k$ male billionaires\", fontsize=14)\n",
        "ax.xaxis.set_major_locator(ticker.MultipleLocator(25))\n",
        "ax.xaxis.set_major_formatter(ticker.PercentFormatter())\n",
        "ax.yaxis.set_visible(False)\n",
        "ax.grid(axis = 'x', which = 'major', alpha = 0.5)\n",
        "ax.axvline(50, color = \"white\", alpha = 1.0, lw=1)\n",
        "\n",
        "fig.savefig(\"gender_selfmade_detail.pdf\")"
      ]
    },
    {
      "cell_type": "code",
      "execution_count": 49,
      "id": "kseeFLOcJDXo",
      "metadata": {
        "colab": {
          "base_uri": "https://localhost:8080/",
          "height": 344
        },
        "id": "kseeFLOcJDXo",
        "outputId": "e3889b9b-8767-40f8-d786-181a74c35650"
      },
      "outputs": [
        {
          "data": {
            "text/plain": [
              "(-0.25, 1.75)"
            ]
          },
          "execution_count": 49,
          "metadata": {},
          "output_type": "execute_result"
        },
        {
          "data": {
            "image/png": "[encoded data removed]",
            "text/plain": [
              "<Figure size 1000x300 with 3 Axes>"
            ]
          },
          "metadata": {},
          "output_type": "display_data"
        }
      ],
      "source": [
        "fig, axs = plt.subplots(1, 3, figsize=(10, 3))\n",
        "\n",
        "ax = axs[0]\n",
        "ax.set_title(\"Women Billionaires\")\n",
        "ax.set_xlabel(\"Total wealth\")\n",
        "\n",
        "np.random.seed(1)\n",
        "u_sm = np.random.rand(n_sm_w)\n",
        "u_in = np.random.rand(n_in_w)\n",
        "\n",
        "ax.plot(\n",
        "    sm_w[\"finalWorth\"],  u_sm, \"o\", label=f\"{n_sm_w} Selfmade\", color=rgb.tue_red, alpha=0.5, mec = \"none\", ms = 4\n",
        ")\n",
        "ax.plot(\n",
        "    in_w[\"finalWorth\"], u_in, \"o\", label=f\"{n_in_w} Inherited\", color=rgb.tue_blue, alpha=0.5, mec = \"none\", ms = 4\n",
        ")\n",
        "\n",
        "# set the x-axis formatter to the custom function\n",
        "#ax.xaxis.set_major_locator(ticker.MultipleLocator(10))\n",
        "#ax.xaxis.set_minor_locator(ticker.MultipleLocator(1))\n",
        "#ax.xaxis.set_major_formatter(ticker.FuncFormatter(lambda x, pos: f\"{float(0.00000001)}\"))  # Adjust this line\n",
        "ax.legend(loc = 'center right', framealpha = 1.0, facecolor = 'white', edgecolor = 'none')\n",
        "ax.grid(axis = 'x', which = 'major', alpha = 0.5)\n",
        "ax.yaxis.set_visible(False)\n",
        "ax.axhline(0.75, color = rgb.tue_dark, alpha = 0.5)\n",
        "ax.set_ylim(-0.25, 1.75)\n",
        "\n",
        "ax = axs[1]\n",
        "\n",
        "ax.set_title(\"Men Billionaires\")\n",
        "ax.set_xlabel(\"Total\")\n",
        "\n",
        "np.random.seed(1)\n",
        "u_sm = np.random.rand(n_sm_m)\n",
        "u_in = np.random.rand(n_in_m)\n",
        "\n",
        "ax.plot(\n",
        "    sm_m[\"finalWorth\"],  u_sm, \"o\", label=f\"{n_sm_m} Selfmade\", color=rgb.tue_red, alpha=0.5, mec = \"none\", ms = 4\n",
        ")\n",
        "ax.plot(\n",
        "    in_m[\"finalWorth\"], u_in, \"o\", label=f\"{n_in_m} Inherited\", color=rgb.tue_blue, alpha=0.5, mec = \"none\", ms = 4\n",
        ")\n",
        "\n",
        "# set the x-axis formatter to the custom function\n",
        "#ax.xaxis.set_major_locator(ticker.MultipleLocator(10))\n",
        "#ax.xaxis.set_minor_locator(ticker.MultipleLocator(1))\n",
        "#ax.xaxis.set_major_formatter(ticker.FuncFormatter(lambda x, pos: f\"{float(0.00000001)}\"))  # Adjust this line\n",
        "ax.legend(loc = 'center right', framealpha = 1.0, facecolor = 'white', edgecolor = 'none')\n",
        "ax.grid(axis = 'x', which = 'major', alpha = 0.5)\n",
        "ax.yaxis.set_visible(False)\n",
        "ax.axhline(0.75, color = rgb.tue_dark, alpha = 0.5)\n",
        "ax.set_ylim(-0.25, 1.75)\n",
        "\n",
        "ax = axs[2]\n",
        "\n",
        "\n",
        "ax.set_title(\"Billionaires\")\n",
        "ax.set_xlabel(\"Total\")\n",
        "\n",
        "np.random.seed(1)\n",
        "u_f = np.random.rand(n_f)\n",
        "u_m = np.random.rand(n_m)\n",
        "\n",
        "ax.plot(\n",
        "    df_f[\"finalWorth\"],  u_f, \"o\", label=f\"{n_f} Women\", color=rgb.tue_red, alpha=0.5, mec = \"none\", ms = 4\n",
        ")\n",
        "ax.plot(\n",
        "    df_m[\"finalWorth\"], u_m, \"o\", label=f\"{n_m} Men\", color=rgb.tue_blue, alpha=0.5, mec = \"none\", ms = 4\n",
        ")\n",
        "\n",
        "# set the x-axis formatter to the custom function\n",
        "#ax.xaxis.set_major_locator(ticker.MultipleLocator(10))\n",
        "#ax.xaxis.set_minor_locator(ticker.MultipleLocator(1))\n",
        "#ax.xaxis.set_major_formatter(ticker.FuncFormatter(lambda x, pos: f\"{float(0.00000001)}\"))  # Adjust this line\n",
        "ax.legend(loc = 'center right', framealpha = 1.0, facecolor = 'white', edgecolor = 'none')\n",
        "ax.grid(axis = 'x', which = 'major', alpha = 0.5)\n",
        "ax.yaxis.set_visible(False)\n",
        "ax.axhline(0.75, color = rgb.tue_dark, alpha = 0.5)\n",
        "ax.set_ylim(-0.25, 1.75)"
      ]
    },
    {
      "cell_type": "code",
      "execution_count": 50,
      "id": "SR_hY8siM4mV",
      "metadata": {
        "colab": {
          "base_uri": "https://localhost:8080/",
          "height": 483
        },
        "id": "SR_hY8siM4mV",
        "outputId": "b65f9a8c-db4e-4a14-b29f-06bb4fc6e17c"
      },
      "outputs": [
        {
          "data": {
            "text/plain": [
              "(-0.25, 1.75)"
            ]
          },
          "execution_count": 50,
          "metadata": {},
          "output_type": "execute_result"
        },
        {
          "data": {
            "image/png": "[encoded data removed]",
            "text/plain": [
              "<Figure size 640x480 with 1 Axes>"
            ]
          },
          "metadata": {},
          "output_type": "display_data"
        }
      ],
      "source": [
        "fig, ax = plt.subplots()\n",
        "ax.set_title(\"Wealth Distribution Among Male Billionaires Based on Income Sources\")\n",
        "ax.set_xlabel(\"total Wealth (in millions)\")\n",
        "\n",
        "np.random.seed(1)\n",
        "u_sm = np.random.rand(n_sm_m)\n",
        "u_in = np.random.rand(n_in_m)\n",
        "\n",
        "ax.plot(\n",
        "    sm_m[\"finalWorth\"],  u_sm, \"o\", label=f\"{n_sm_m} Selfmade men\", color=rgb.tue_red, alpha=0.5, mec = \"none\", ms = 4\n",
        ")\n",
        "ax.plot(\n",
        "    in_m[\"finalWorth\"], u_in, \"o\", label=f\"{n_in_m} Inherited men\", color=rgb.tue_blue, alpha=0.5, mec = \"none\", ms = 4\n",
        ")\n",
        "\n",
        "# set the x-axis formatter to the custom function\n",
        "#ax.xaxis.set_major_locator(ticker.MultipleLocator(10))\n",
        "#ax.xaxis.set_minor_locator(ticker.MultipleLocator(1))\n",
        "#ax.xaxis.set_major_formatter(ticker.FuncFormatter(lambda x, pos: f\"{float(0.00000001)}\"))  # Adjust this line\n",
        "ax.legend(loc = 'center right', framealpha = 1.0, facecolor = 'white', edgecolor = 'none')\n",
        "ax.grid(axis = 'x', which = 'major', alpha = 0.5)\n",
        "ax.yaxis.set_visible(False)\n",
        "ax.axhline(0.75, color = rgb.tue_dark, alpha = 0.5)\n",
        "ax.set_ylim(-0.25, 1.75)"
      ]
    },
    {
      "cell_type": "markdown",
      "id": "GyBl_iEIPkSz",
      "metadata": {
        "id": "GyBl_iEIPkSz"
      },
      "source": [
        "\n",
        "1. While 75% of male millionaires are self-made, the corresponding figure for female millionaires is only 29%. This indicates a significant gender disparity, with a higher proportion of male millionaires achieving their wealth through their own efforts.\n",
        "\n",
        "2. Despite a substantial percentage of self-made male millionaires, the distribution of inherited wealth among the top male millionaires shows a non-negligible presence in the extreme upper percentiles. When performing bootstrap analysis, the distribution of the top k millionaires converges to around 40%, forming a relatively normal distribution. This suggests that even though a majority are self-made, there exists a notable fraction of extremely wealthy men who inherit their wealth.\n",
        "\n",
        "3. In contrast, the distribution of self-made wealth among female millionaires is concentrated towards the lower end. The top female millionaires predominantly inherit their wealth, resulting in a significantly lower self-made percentage compared to their male counterparts. This pattern leads to a clustering of the distribution in the left half of the graph, highlighting the pronounced difference in wealth origins between the top male and female millionaires."
      ]
    }
  ],
  "metadata": {
    "colab": {
      "provenance": []
    },
    "kernelspec": {
      "display_name": "Python 3 (ipykernel)",
      "language": "python",
      "name": "python3"
    },
    "language_info": {
      "codemirror_mode": {
        "name": "ipython",
        "version": 3
      },
      "file_extension": ".py",
      "mimetype": "text/x-python",
      "name": "python",
      "nbconvert_exporter": "python",
      "pygments_lexer": "ipython3",
      "version": "3.11.3"
    }
  },
  "nbformat": 4,
  "nbformat_minor": 5
}
