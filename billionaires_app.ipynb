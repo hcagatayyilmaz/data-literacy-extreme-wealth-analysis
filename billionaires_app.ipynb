{
  "cells": [
    {
      "cell_type": "code",
      "execution_count": 1,
      "metadata": {
        "colab": {
          "base_uri": "https://localhost:8080/"
        },
        "id": "Xiz6e-FVpZhc",
        "outputId": "138fa5ab-ee5b-4d91-f6ca-1e36cee7a214"
      },
      "outputs": [
        {
          "name": "stdout",
          "output_type": "stream",
          "text": [
            "Collecting streamlit\n",
            "  Obtaining dependency information for streamlit from https://files.pythonhosted.org/packages/d3/96/9251b421d0a1c7d625a82a04bea56b8a9830c785940ec16db454b85c6db7/streamlit-1.29.0-py2.py3-none-any.whl.metadata\n",
            "  Downloading streamlit-1.29.0-py2.py3-none-any.whl.metadata (8.2 kB)\n",
            "Requirement already satisfied: pandas in /Users/hcagatayyilmaz/anaconda3/lib/python3.11/site-packages (2.0.3)\n",
            "Collecting altair<6,>=4.0 (from streamlit)\n",
            "  Obtaining dependency information for altair<6,>=4.0 from https://files.pythonhosted.org/packages/c5/e4/7fcceef127badbb0d644d730d992410e4f3799b295c9964a172f92a469c7/altair-5.2.0-py3-none-any.whl.metadata\n",
            "  Downloading altair-5.2.0-py3-none-any.whl.metadata (8.7 kB)\n",
            "Collecting blinker<2,>=1.0.0 (from streamlit)\n",
            "  Obtaining dependency information for blinker<2,>=1.0.0 from https://files.pythonhosted.org/packages/fa/2a/7f3714cbc6356a0efec525ce7a0613d581072ed6eb53eb7b9754f33db807/blinker-1.7.0-py3-none-any.whl.metadata\n",
            "  Downloading blinker-1.7.0-py3-none-any.whl.metadata (1.9 kB)\n",
            "Collecting cachetools<6,>=4.0 (from streamlit)\n",
            "  Obtaining dependency information for cachetools<6,>=4.0 from https://files.pythonhosted.org/packages/a2/91/2d843adb9fbd911e0da45fbf6f18ca89d07a087c3daa23e955584f90ebf4/cachetools-5.3.2-py3-none-any.whl.metadata\n",
            "  Downloading cachetools-5.3.2-py3-none-any.whl.metadata (5.2 kB)\n",
            "Requirement already satisfied: click<9,>=7.0 in /Users/hcagatayyilmaz/anaconda3/lib/python3.11/site-packages (from streamlit) (8.0.4)\n",
            "Requirement already satisfied: importlib-metadata<7,>=1.4 in /Users/hcagatayyilmaz/anaconda3/lib/python3.11/site-packages (from streamlit) (6.0.0)\n",
            "Requirement already satisfied: numpy<2,>=1.19.3 in /Users/hcagatayyilmaz/anaconda3/lib/python3.11/site-packages (from streamlit) (1.24.3)\n",
            "Requirement already satisfied: packaging<24,>=16.8 in /Users/hcagatayyilmaz/anaconda3/lib/python3.11/site-packages (from streamlit) (23.1)\n",
            "Requirement already satisfied: pillow<11,>=7.1.0 in /Users/hcagatayyilmaz/anaconda3/lib/python3.11/site-packages (from streamlit) (10.0.1)\n",
            "Collecting protobuf<5,>=3.20 (from streamlit)\n",
            "  Obtaining dependency information for protobuf<5,>=3.20 from https://files.pythonhosted.org/packages/b3/81/0017aefacf23273d4efd1154ef958a27eed9c177c4cc09d2d4ba398fb47f/protobuf-4.25.2-cp37-abi3-macosx_10_9_universal2.whl.metadata\n",
            "  Downloading protobuf-4.25.2-cp37-abi3-macosx_10_9_universal2.whl.metadata (541 bytes)\n",
            "Requirement already satisfied: pyarrow>=6.0 in /Users/hcagatayyilmaz/anaconda3/lib/python3.11/site-packages (from streamlit) (11.0.0)\n",
            "Requirement already satisfied: python-dateutil<3,>=2.7.3 in /Users/hcagatayyilmaz/anaconda3/lib/python3.11/site-packages (from streamlit) (2.8.2)\n",
            "Requirement already satisfied: requests<3,>=2.27 in /Users/hcagatayyilmaz/anaconda3/lib/python3.11/site-packages (from streamlit) (2.31.0)\n",
            "Collecting rich<14,>=10.14.0 (from streamlit)\n",
            "  Obtaining dependency information for rich<14,>=10.14.0 from https://files.pythonhosted.org/packages/be/be/1520178fa01eabe014b16e72a952b9f900631142ccd03dc36cf93e30c1ce/rich-13.7.0-py3-none-any.whl.metadata\n",
            "  Downloading rich-13.7.0-py3-none-any.whl.metadata (18 kB)\n",
            "Requirement already satisfied: tenacity<9,>=8.1.0 in /Users/hcagatayyilmaz/anaconda3/lib/python3.11/site-packages (from streamlit) (8.2.2)\n",
            "Requirement already satisfied: toml<2,>=0.10.1 in /Users/hcagatayyilmaz/anaconda3/lib/python3.11/site-packages (from streamlit) (0.10.2)\n",
            "Requirement already satisfied: typing-extensions<5,>=4.3.0 in /Users/hcagatayyilmaz/anaconda3/lib/python3.11/site-packages (from streamlit) (4.7.1)\n",
            "Collecting tzlocal<6,>=1.1 (from streamlit)\n",
            "  Obtaining dependency information for tzlocal<6,>=1.1 from https://files.pythonhosted.org/packages/97/3f/c4c51c55ff8487f2e6d0e618dba917e3c3ee2caae6cf0fbb59c9b1876f2e/tzlocal-5.2-py3-none-any.whl.metadata\n",
            "  Downloading tzlocal-5.2-py3-none-any.whl.metadata (7.8 kB)\n",
            "Collecting validators<1,>=0.2 (from streamlit)\n",
            "  Obtaining dependency information for validators<1,>=0.2 from https://files.pythonhosted.org/packages/3a/0c/785d317eea99c3739821718f118c70537639aa43f96bfa1d83a71f68eaf6/validators-0.22.0-py3-none-any.whl.metadata\n",
            "  Downloading validators-0.22.0-py3-none-any.whl.metadata (4.7 kB)\n",
            "Collecting gitpython!=3.1.19,<4,>=3.0.7 (from streamlit)\n",
            "  Obtaining dependency information for gitpython!=3.1.19,<4,>=3.0.7 from https://files.pythonhosted.org/packages/45/c6/a637a7a11d4619957cb95ca195168759a4502991b1b91c13d3203ffc3748/GitPython-3.1.41-py3-none-any.whl.metadata\n",
            "  Downloading GitPython-3.1.41-py3-none-any.whl.metadata (14 kB)\n",
            "Collecting pydeck<1,>=0.8.0b4 (from streamlit)\n",
            "  Downloading pydeck-0.8.1b0-py2.py3-none-any.whl (4.8 MB)\n",
            "\u001b[2K     \u001b[90m━━━━━━━━━━━━━━━━━━━━━━━━━━━━━━━━━━━━━━━━\u001b[0m \u001b[32m4.8/4.8 MB\u001b[0m \u001b[31m6.8 MB/s\u001b[0m eta \u001b[36m0:00:00\u001b[0m00:01\u001b[0m00:01\u001b[0m\n",
            "\u001b[?25hRequirement already satisfied: tornado<7,>=6.0.3 in /Users/hcagatayyilmaz/anaconda3/lib/python3.11/site-packages (from streamlit) (6.3.2)\n",
            "Requirement already satisfied: pytz>=2020.1 in /Users/hcagatayyilmaz/anaconda3/lib/python3.11/site-packages (from pandas) (2023.3.post1)\n",
            "Requirement already satisfied: tzdata>=2022.1 in /Users/hcagatayyilmaz/anaconda3/lib/python3.11/site-packages (from pandas) (2023.3)\n",
            "Requirement already satisfied: jinja2 in /Users/hcagatayyilmaz/anaconda3/lib/python3.11/site-packages (from altair<6,>=4.0->streamlit) (3.1.2)\n",
            "Requirement already satisfied: jsonschema>=3.0 in /Users/hcagatayyilmaz/anaconda3/lib/python3.11/site-packages (from altair<6,>=4.0->streamlit) (4.17.3)\n",
            "Requirement already satisfied: toolz in /Users/hcagatayyilmaz/anaconda3/lib/python3.11/site-packages (from altair<6,>=4.0->streamlit) (0.12.0)\n",
            "Collecting gitdb<5,>=4.0.1 (from gitpython!=3.1.19,<4,>=3.0.7->streamlit)\n",
            "  Obtaining dependency information for gitdb<5,>=4.0.1 from https://files.pythonhosted.org/packages/fd/5b/8f0c4a5bb9fd491c277c21eff7ccae71b47d43c4446c9d0c6cff2fe8c2c4/gitdb-4.0.11-py3-none-any.whl.metadata\n",
            "  Downloading gitdb-4.0.11-py3-none-any.whl.metadata (1.2 kB)\n",
            "Requirement already satisfied: zipp>=0.5 in /Users/hcagatayyilmaz/anaconda3/lib/python3.11/site-packages (from importlib-metadata<7,>=1.4->streamlit) (3.11.0)\n",
            "Requirement already satisfied: six>=1.5 in /Users/hcagatayyilmaz/anaconda3/lib/python3.11/site-packages (from python-dateutil<3,>=2.7.3->streamlit) (1.16.0)\n",
            "Requirement already satisfied: charset-normalizer<4,>=2 in /Users/hcagatayyilmaz/anaconda3/lib/python3.11/site-packages (from requests<3,>=2.27->streamlit) (2.0.4)\n",
            "Requirement already satisfied: idna<4,>=2.5 in /Users/hcagatayyilmaz/anaconda3/lib/python3.11/site-packages (from requests<3,>=2.27->streamlit) (3.4)\n",
            "Requirement already satisfied: urllib3<3,>=1.21.1 in /Users/hcagatayyilmaz/anaconda3/lib/python3.11/site-packages (from requests<3,>=2.27->streamlit) (1.26.16)\n",
            "Requirement already satisfied: certifi>=2017.4.17 in /Users/hcagatayyilmaz/anaconda3/lib/python3.11/site-packages (from requests<3,>=2.27->streamlit) (2023.11.17)\n",
            "Requirement already satisfied: markdown-it-py>=2.2.0 in /Users/hcagatayyilmaz/anaconda3/lib/python3.11/site-packages (from rich<14,>=10.14.0->streamlit) (2.2.0)\n",
            "Requirement already satisfied: pygments<3.0.0,>=2.13.0 in /Users/hcagatayyilmaz/anaconda3/lib/python3.11/site-packages (from rich<14,>=10.14.0->streamlit) (2.15.1)\n",
            "Collecting smmap<6,>=3.0.1 (from gitdb<5,>=4.0.1->gitpython!=3.1.19,<4,>=3.0.7->streamlit)\n",
            "  Obtaining dependency information for smmap<6,>=3.0.1 from https://files.pythonhosted.org/packages/a7/a5/10f97f73544edcdef54409f1d839f6049a0d79df68adbc1ceb24d1aaca42/smmap-5.0.1-py3-none-any.whl.metadata\n",
            "  Downloading smmap-5.0.1-py3-none-any.whl.metadata (4.3 kB)\n",
            "Requirement already satisfied: MarkupSafe>=2.0 in /Users/hcagatayyilmaz/anaconda3/lib/python3.11/site-packages (from jinja2->altair<6,>=4.0->streamlit) (2.1.1)\n",
            "Requirement already satisfied: attrs>=17.4.0 in /Users/hcagatayyilmaz/anaconda3/lib/python3.11/site-packages (from jsonschema>=3.0->altair<6,>=4.0->streamlit) (22.1.0)\n",
            "Requirement already satisfied: pyrsistent!=0.17.0,!=0.17.1,!=0.17.2,>=0.14.0 in /Users/hcagatayyilmaz/anaconda3/lib/python3.11/site-packages (from jsonschema>=3.0->altair<6,>=4.0->streamlit) (0.18.0)\n",
            "Requirement already satisfied: mdurl~=0.1 in /Users/hcagatayyilmaz/anaconda3/lib/python3.11/site-packages (from markdown-it-py>=2.2.0->rich<14,>=10.14.0->streamlit) (0.1.0)\n",
            "Downloading streamlit-1.29.0-py2.py3-none-any.whl (8.4 MB)\n",
            "\u001b[2K   \u001b[90m━━━━━━━━━━━━━━━━━━━━━━━━━━━━━━━━━━━━━━━━\u001b[0m \u001b[32m8.4/8.4 MB\u001b[0m \u001b[31m7.6 MB/s\u001b[0m eta \u001b[36m0:00:00\u001b[0m00:01\u001b[0m00:01\u001b[0m\n",
            "\u001b[?25hDownloading altair-5.2.0-py3-none-any.whl (996 kB)\n",
            "\u001b[2K   \u001b[90m━━━━━━━━━━━━━━━━━━━━━━━━━━━━━━━━━━━━━━━━\u001b[0m \u001b[32m996.9/996.9 kB\u001b[0m \u001b[31m6.9 MB/s\u001b[0m eta \u001b[36m0:00:00\u001b[0ma \u001b[36m0:00:01\u001b[0m\n",
            "\u001b[?25hDownloading blinker-1.7.0-py3-none-any.whl (13 kB)\n",
            "Downloading cachetools-5.3.2-py3-none-any.whl (9.3 kB)\n",
            "Downloading GitPython-3.1.41-py3-none-any.whl (196 kB)\n",
            "\u001b[2K   \u001b[90m━━━━━━━━━━━━━━━━━━━━━━━━━━━━━━━━━━━━━━━━\u001b[0m \u001b[32m196.4/196.4 kB\u001b[0m \u001b[31m5.1 MB/s\u001b[0m eta \u001b[36m0:00:00\u001b[0m\n",
            "\u001b[?25hDownloading protobuf-4.25.2-cp37-abi3-macosx_10_9_universal2.whl (394 kB)\n",
            "\u001b[2K   \u001b[90m━━━━━━━━━━━━━━━━━━━━━━━━━━━━━━━━━━━━━━━━\u001b[0m \u001b[32m394.2/394.2 kB\u001b[0m \u001b[31m6.1 MB/s\u001b[0m eta \u001b[36m0:00:00\u001b[0ma \u001b[36m0:00:01\u001b[0m\n",
            "\u001b[?25hDownloading rich-13.7.0-py3-none-any.whl (240 kB)\n",
            "\u001b[2K   \u001b[90m━━━━━━━━━━━━━━━━━━━━━━━━━━━━━━━━━━━━━━━━\u001b[0m \u001b[32m240.6/240.6 kB\u001b[0m \u001b[31m8.1 MB/s\u001b[0m eta \u001b[36m0:00:00\u001b[0m\n",
            "\u001b[?25hDownloading tzlocal-5.2-py3-none-any.whl (17 kB)\n",
            "Downloading validators-0.22.0-py3-none-any.whl (26 kB)\n",
            "Downloading gitdb-4.0.11-py3-none-any.whl (62 kB)\n",
            "\u001b[2K   \u001b[90m━━━━━━━━━━━━━━━━━━━━━━━━━━━━━━━━━━━━━━━━\u001b[0m \u001b[32m62.7/62.7 kB\u001b[0m \u001b[31m6.5 MB/s\u001b[0m eta \u001b[36m0:00:00\u001b[0m\n",
            "\u001b[?25hDownloading smmap-5.0.1-py3-none-any.whl (24 kB)\n",
            "Installing collected packages: validators, tzlocal, smmap, protobuf, cachetools, blinker, rich, pydeck, gitdb, gitpython, altair, streamlit\n",
            "Successfully installed altair-5.2.0 blinker-1.7.0 cachetools-5.3.2 gitdb-4.0.11 gitpython-3.1.41 protobuf-4.25.2 pydeck-0.8.1b0 rich-13.7.0 smmap-5.0.1 streamlit-1.29.0 tzlocal-5.2 validators-0.22.0\n"
          ]
        }
      ],
      "source": [
        "!pip install streamlit pandas"
      ]
    },
    {
      "cell_type": "code",
      "execution_count": 2,
      "metadata": {
        "colab": {
          "base_uri": "https://localhost:8080/"
        },
        "id": "QQQ2tfW1pgE4",
        "outputId": "69ffa851-7c75-4590-b584-ef35da87397b"
      },
      "outputs": [
        {
          "name": "stderr",
          "output_type": "stream",
          "text": [
            "2024-01-11 15:09:42.410 \n",
            "  \u001b[33m\u001b[1mWarning:\u001b[0m to view this Streamlit app on a browser, run it with the following\n",
            "  command:\n",
            "\n",
            "    streamlit run /Library/Frameworks/Python.framework/Versions/3.11/lib/python3.11/site-packages/ipykernel_launcher.py [ARGUMENTS]\n"
          ]
        }
      ],
      "source": [
        "import streamlit as st\n",
        "import pandas as pd\n",
        "\n",
        "# Load the dataset (assuming it's in the same directory as the script)\n",
        "df = pd.read_csv(\"Billionaires Statistics Dataset.csv\")\n",
        "\n",
        "# Create a Streamlit app\n",
        "st.title(\"Billionaires Information App\")\n",
        "\n",
        "# Create a dropdown bar to choose a billionaire's name\n",
        "selected_person = st.selectbox(\"Select a Billionaire:\", df['personName'].unique())\n",
        "\n",
        "# Filter the dataset based on the selected person\n",
        "selected_billionaire = df[df['personName'] == selected_person].iloc[0]\n",
        "\n",
        "# Display information about the selected billionaire\n",
        "st.subheader(\"Billionaire Information:\")\n",
        "st.write(f\"**Name:** {selected_billionaire['personName']}\")\n",
        "st.write(f\"**Age:** {selected_billionaire['age']}\")\n",
        "st.write(f\"**Country:** {selected_billionaire['country']}\")\n",
        "st.write(f\"**City:** {selected_billionaire['city']}\")\n",
        "st.write(f\"**Source of Wealth:** {selected_billionaire['source']}\")\n",
        "st.write(f\"**Industries:** {selected_billionaire['industries']}\")\n",
        "st.write(f\"**Net Worth:** {selected_billionaire['finalWorth']}\")"
      ]
    },
    {
      "cell_type": "code",
      "execution_count": 3,
      "metadata": {
        "colab": {
          "background_save": true,
          "base_uri": "https://localhost:8080/"
        },
        "id": "dOaS4WQGqBMG",
        "outputId": "000fe3cd-e9aa-4a64-bc60-806cde62d77d"
      },
      "outputs": [
        {
          "name": "stdout",
          "output_type": "stream",
          "text": [
            "Usage: streamlit run [OPTIONS] TARGET [ARGS]...\n",
            "Try 'streamlit run --help' for help.\n",
            "\n",
            "Error: Invalid value: File does not exist: billionaires_app.py\n"
          ]
        }
      ],
      "source": [
        "!streamlit run billionaires_app.py"
      ]
    },
    {
      "cell_type": "code",
      "execution_count": 4,
      "metadata": {
        "colab": {
          "base_uri": "https://localhost:8080/"
        },
        "id": "4bIQ_P5_qJqr",
        "outputId": "449f6f4b-1a20-47f6-8bca-b6825700fa2c"
      },
      "outputs": [
        {
          "ename": "ModuleNotFoundError",
          "evalue": "No module named 'plotly'",
          "output_type": "error",
          "traceback": [
            "\u001b[0;31m---------------------------------------------------------------------------\u001b[0m",
            "\u001b[0;31mModuleNotFoundError\u001b[0m                       Traceback (most recent call last)",
            "Cell \u001b[0;32mIn[4], line 1\u001b[0m\n\u001b[0;32m----> 1\u001b[0m \u001b[39mimport\u001b[39;00m \u001b[39mplotly\u001b[39;00m\u001b[39m.\u001b[39;00m\u001b[39mexpress\u001b[39;00m \u001b[39mas\u001b[39;00m \u001b[39mpx\u001b[39;00m\n\u001b[1;32m      3\u001b[0m \u001b[39m# Create a Streamlit app\u001b[39;00m\n\u001b[1;32m      4\u001b[0m st\u001b[39m.\u001b[39mtitle(\u001b[39m\"\u001b[39m\u001b[39mExplore Billionaires\u001b[39m\u001b[39m'\u001b[39m\u001b[39m World\u001b[39m\u001b[39m\"\u001b[39m)\n",
            "\u001b[0;31mModuleNotFoundError\u001b[0m: No module named 'plotly'"
          ]
        }
      ],
      "source": [
        "import plotly.express as px\n",
        "\n",
        "# Create a Streamlit app\n",
        "st.title(\"Explore Billionaires' World\")\n",
        "\n",
        "# Sidebar with the personName selection\n",
        "selected_person = st.sidebar.selectbox(\"Select a Billionaire:\", df['personName'].unique())\n",
        "\n",
        "# Filter the dataset based on the selected person\n",
        "selected_billionaire = df[df['personName'] == selected_person].iloc[0]\n",
        "\n",
        "# Display information about the selected billionaire\n",
        "st.sidebar.subheader(\"Billionaire Information:\")\n",
        "st.sidebar.write(f\"**Name:** {selected_billionaire['personName']}\")\n",
        "st.sidebar.write(f\"**Age:** {selected_billionaire['age']}\")\n",
        "st.sidebar.write(f\"**Country:** {selected_billionaire['country']}\")\n",
        "st.sidebar.write(f\"**City:** {selected_billionaire['city']}\")\n",
        "st.sidebar.write(f\"**Source of Wealth:** {selected_billionaire['source']}\")\n",
        "st.sidebar.write(f\"**Industries:** {selected_billionaire['industries']}\")\n",
        "\n",
        "# Visualize the distribution of billionaires by industry\n",
        "industry_distribution = df['industries'].value_counts()\n",
        "fig_industry_distribution = px.bar(industry_distribution, x=industry_distribution.index, y=industry_distribution.values,\n",
        "                                    labels={'x': 'Industry', 'y': 'Number of Billionaires'},\n",
        "                                    title='Distribution of Billionaires by Industry',\n",
        "                                    color_discrete_sequence=['purple'])\n",
        "st.plotly_chart(fig_industry_distribution, use_container_width=True)\n",
        "\n",
        "# Map showing the geographic locations of billionaires\n",
        "fig_map = px.scatter_geo(df, lat='latitude_country', lon='longitude_country', color='finalWorth',\n",
        "                         hover_name='personName', size='finalWorth',\n",
        "                         projection='natural earth', title='Geographic Distribution of Billionaires',\n",
        "                         color_continuous_scale=px.colors.sequential.Plasma)\n",
        "st.plotly_chart(fig_map, use_container_width=True)"
      ]
    },
    {
      "cell_type": "code",
      "execution_count": null,
      "metadata": {
        "id": "jaW9NIqnrQoP"
      },
      "outputs": [],
      "source": []
    }
  ],
  "metadata": {
    "colab": {
      "provenance": []
    },
    "kernelspec": {
      "display_name": "Python 3",
      "name": "python3"
    },
    "language_info": {
      "codemirror_mode": {
        "name": "ipython",
        "version": 3
      },
      "file_extension": ".py",
      "mimetype": "text/x-python",
      "name": "python",
      "nbconvert_exporter": "python",
      "pygments_lexer": "ipython3",
      "version": "3.11.5"
    }
  },
  "nbformat": 4,
  "nbformat_minor": 0
}
