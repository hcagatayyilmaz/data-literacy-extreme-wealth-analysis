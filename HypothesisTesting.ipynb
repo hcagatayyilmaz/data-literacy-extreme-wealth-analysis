{
 "cells": [
  {
   "cell_type": "code",
   "execution_count": 48,
   "id": "0ad5601d",
   "metadata": {},
   "outputs": [],
   "source": [
    "import pandas as pd\n",
    "\n",
    "# URL of the raw csv file in the GitHub repository\n",
    "url = 'https://raw.githubusercontent.com/hcagatayyilmaz/data-literacy-extreme-wealth-analysis/main/billionaires.csv'\n",
    "\n",
    "# Use pandas to import the csv file\n",
    "df = pd.read_csv(url)"
   ]
  },
  {
   "cell_type": "code",
   "execution_count": 49,
   "id": "518f0524",
   "metadata": {},
   "outputs": [
    {
     "data": {
      "text/html": [
       "<div>\n",
       "<style scoped>\n",
       "    .dataframe tbody tr th:only-of-type {\n",
       "        vertical-align: middle;\n",
       "    }\n",
       "\n",
       "    .dataframe tbody tr th {\n",
       "        vertical-align: top;\n",
       "    }\n",
       "\n",
       "    .dataframe thead th {\n",
       "        text-align: right;\n",
       "    }\n",
       "</style>\n",
       "<table border=\"1\" class=\"dataframe\">\n",
       "  <thead>\n",
       "    <tr style=\"text-align: right;\">\n",
       "      <th></th>\n",
       "      <th>rank</th>\n",
       "      <th>finalWorth</th>\n",
       "      <th>category</th>\n",
       "      <th>personName</th>\n",
       "      <th>age</th>\n",
       "      <th>country</th>\n",
       "      <th>city</th>\n",
       "      <th>source</th>\n",
       "      <th>industries</th>\n",
       "      <th>countryOfCitizenship</th>\n",
       "      <th>...</th>\n",
       "      <th>cpi_change_country</th>\n",
       "      <th>gdp_country</th>\n",
       "      <th>gross_tertiary_education_enrollment</th>\n",
       "      <th>gross_primary_education_enrollment_country</th>\n",
       "      <th>life_expectancy_country</th>\n",
       "      <th>tax_revenue_country_country</th>\n",
       "      <th>total_tax_rate_country</th>\n",
       "      <th>population_country</th>\n",
       "      <th>latitude_country</th>\n",
       "      <th>longitude_country</th>\n",
       "    </tr>\n",
       "  </thead>\n",
       "  <tbody>\n",
       "    <tr>\n",
       "      <th>0</th>\n",
       "      <td>1</td>\n",
       "      <td>211000</td>\n",
       "      <td>Fashion &amp; Retail</td>\n",
       "      <td>Bernard Arnault &amp; family</td>\n",
       "      <td>74.0</td>\n",
       "      <td>France</td>\n",
       "      <td>Paris</td>\n",
       "      <td>LVMH</td>\n",
       "      <td>Fashion &amp; Retail</td>\n",
       "      <td>France</td>\n",
       "      <td>...</td>\n",
       "      <td>1.1</td>\n",
       "      <td>$2,715,518,274,227</td>\n",
       "      <td>65.6</td>\n",
       "      <td>102.5</td>\n",
       "      <td>82.5</td>\n",
       "      <td>24.2</td>\n",
       "      <td>60.7</td>\n",
       "      <td>67059887.0</td>\n",
       "      <td>46.227638</td>\n",
       "      <td>2.213749</td>\n",
       "    </tr>\n",
       "    <tr>\n",
       "      <th>1</th>\n",
       "      <td>2</td>\n",
       "      <td>180000</td>\n",
       "      <td>Automotive</td>\n",
       "      <td>Elon Musk</td>\n",
       "      <td>51.0</td>\n",
       "      <td>United States</td>\n",
       "      <td>Austin</td>\n",
       "      <td>Tesla, SpaceX</td>\n",
       "      <td>Automotive</td>\n",
       "      <td>United States</td>\n",
       "      <td>...</td>\n",
       "      <td>7.5</td>\n",
       "      <td>$21,427,700,000,000</td>\n",
       "      <td>88.2</td>\n",
       "      <td>101.8</td>\n",
       "      <td>78.5</td>\n",
       "      <td>9.6</td>\n",
       "      <td>36.6</td>\n",
       "      <td>328239523.0</td>\n",
       "      <td>37.090240</td>\n",
       "      <td>-95.712891</td>\n",
       "    </tr>\n",
       "    <tr>\n",
       "      <th>2</th>\n",
       "      <td>3</td>\n",
       "      <td>114000</td>\n",
       "      <td>Technology</td>\n",
       "      <td>Jeff Bezos</td>\n",
       "      <td>59.0</td>\n",
       "      <td>United States</td>\n",
       "      <td>Medina</td>\n",
       "      <td>Amazon</td>\n",
       "      <td>Technology</td>\n",
       "      <td>United States</td>\n",
       "      <td>...</td>\n",
       "      <td>7.5</td>\n",
       "      <td>$21,427,700,000,000</td>\n",
       "      <td>88.2</td>\n",
       "      <td>101.8</td>\n",
       "      <td>78.5</td>\n",
       "      <td>9.6</td>\n",
       "      <td>36.6</td>\n",
       "      <td>328239523.0</td>\n",
       "      <td>37.090240</td>\n",
       "      <td>-95.712891</td>\n",
       "    </tr>\n",
       "    <tr>\n",
       "      <th>3</th>\n",
       "      <td>4</td>\n",
       "      <td>107000</td>\n",
       "      <td>Technology</td>\n",
       "      <td>Larry Ellison</td>\n",
       "      <td>78.0</td>\n",
       "      <td>United States</td>\n",
       "      <td>Lanai</td>\n",
       "      <td>Oracle</td>\n",
       "      <td>Technology</td>\n",
       "      <td>United States</td>\n",
       "      <td>...</td>\n",
       "      <td>7.5</td>\n",
       "      <td>$21,427,700,000,000</td>\n",
       "      <td>88.2</td>\n",
       "      <td>101.8</td>\n",
       "      <td>78.5</td>\n",
       "      <td>9.6</td>\n",
       "      <td>36.6</td>\n",
       "      <td>328239523.0</td>\n",
       "      <td>37.090240</td>\n",
       "      <td>-95.712891</td>\n",
       "    </tr>\n",
       "    <tr>\n",
       "      <th>4</th>\n",
       "      <td>5</td>\n",
       "      <td>106000</td>\n",
       "      <td>Finance &amp; Investments</td>\n",
       "      <td>Warren Buffett</td>\n",
       "      <td>92.0</td>\n",
       "      <td>United States</td>\n",
       "      <td>Omaha</td>\n",
       "      <td>Berkshire Hathaway</td>\n",
       "      <td>Finance &amp; Investments</td>\n",
       "      <td>United States</td>\n",
       "      <td>...</td>\n",
       "      <td>7.5</td>\n",
       "      <td>$21,427,700,000,000</td>\n",
       "      <td>88.2</td>\n",
       "      <td>101.8</td>\n",
       "      <td>78.5</td>\n",
       "      <td>9.6</td>\n",
       "      <td>36.6</td>\n",
       "      <td>328239523.0</td>\n",
       "      <td>37.090240</td>\n",
       "      <td>-95.712891</td>\n",
       "    </tr>\n",
       "  </tbody>\n",
       "</table>\n",
       "<p>5 rows × 35 columns</p>\n",
       "</div>"
      ],
      "text/plain": [
       "   rank  finalWorth               category                personName   age  \\\n",
       "0     1      211000       Fashion & Retail  Bernard Arnault & family  74.0   \n",
       "1     2      180000             Automotive                 Elon Musk  51.0   \n",
       "2     3      114000             Technology                Jeff Bezos  59.0   \n",
       "3     4      107000             Technology             Larry Ellison  78.0   \n",
       "4     5      106000  Finance & Investments            Warren Buffett  92.0   \n",
       "\n",
       "         country    city              source             industries  \\\n",
       "0         France   Paris                LVMH       Fashion & Retail   \n",
       "1  United States  Austin       Tesla, SpaceX             Automotive   \n",
       "2  United States  Medina              Amazon             Technology   \n",
       "3  United States   Lanai              Oracle             Technology   \n",
       "4  United States   Omaha  Berkshire Hathaway  Finance & Investments   \n",
       "\n",
       "  countryOfCitizenship  ... cpi_change_country           gdp_country  \\\n",
       "0               France  ...                1.1   $2,715,518,274,227    \n",
       "1        United States  ...                7.5  $21,427,700,000,000    \n",
       "2        United States  ...                7.5  $21,427,700,000,000    \n",
       "3        United States  ...                7.5  $21,427,700,000,000    \n",
       "4        United States  ...                7.5  $21,427,700,000,000    \n",
       "\n",
       "  gross_tertiary_education_enrollment  \\\n",
       "0                                65.6   \n",
       "1                                88.2   \n",
       "2                                88.2   \n",
       "3                                88.2   \n",
       "4                                88.2   \n",
       "\n",
       "  gross_primary_education_enrollment_country life_expectancy_country  \\\n",
       "0                                      102.5                    82.5   \n",
       "1                                      101.8                    78.5   \n",
       "2                                      101.8                    78.5   \n",
       "3                                      101.8                    78.5   \n",
       "4                                      101.8                    78.5   \n",
       "\n",
       "  tax_revenue_country_country total_tax_rate_country population_country  \\\n",
       "0                        24.2                   60.7         67059887.0   \n",
       "1                         9.6                   36.6        328239523.0   \n",
       "2                         9.6                   36.6        328239523.0   \n",
       "3                         9.6                   36.6        328239523.0   \n",
       "4                         9.6                   36.6        328239523.0   \n",
       "\n",
       "  latitude_country longitude_country  \n",
       "0        46.227638          2.213749  \n",
       "1        37.090240        -95.712891  \n",
       "2        37.090240        -95.712891  \n",
       "3        37.090240        -95.712891  \n",
       "4        37.090240        -95.712891  \n",
       "\n",
       "[5 rows x 35 columns]"
      ]
     },
     "execution_count": 49,
     "metadata": {},
     "output_type": "execute_result"
    }
   ],
   "source": [
    "df.head()"
   ]
  },
  {
   "cell_type": "markdown",
   "id": "0c2dbe5c",
   "metadata": {},
   "source": [
    "Data preprocessing- copied from Kuebra's colab"
   ]
  },
  {
   "cell_type": "code",
   "execution_count": 50,
   "id": "8667df44",
   "metadata": {},
   "outputs": [
    {
     "data": {
      "text/plain": [
       "Index(['rank', 'finalWorth', 'category', 'personName', 'age', 'country',\n",
       "       'city', 'source', 'industries', 'countryOfCitizenship', 'organization',\n",
       "       'selfMade', 'status', 'gender', 'birthDate', 'lastName', 'firstName',\n",
       "       'title', 'date', 'state', 'residenceStateRegion', 'birthYear',\n",
       "       'birthMonth', 'birthDay', 'cpi_country', 'cpi_change_country',\n",
       "       'gdp_country', 'gross_tertiary_education_enrollment',\n",
       "       'gross_primary_education_enrollment_country', 'life_expectancy_country',\n",
       "       'tax_revenue_country_country', 'total_tax_rate_country',\n",
       "       'population_country', 'latitude_country', 'longitude_country'],\n",
       "      dtype='object')"
      ]
     },
     "execution_count": 50,
     "metadata": {},
     "output_type": "execute_result"
    }
   ],
   "source": [
    "df.columns"
   ]
  },
  {
   "cell_type": "code",
   "execution_count": 51,
   "id": "6429a61c",
   "metadata": {},
   "outputs": [
    {
     "name": "stdout",
     "output_type": "stream",
     "text": [
      "                                            Has_Null  Null_Count  Null_Percent\n",
      "organization                                    True        2315            88\n",
      "title                                           True        2301            87\n",
      "residenceStateRegion                            True        1893            72\n",
      "state                                           True        1887            71\n",
      "cpi_change_country                              True         184             7\n",
      "cpi_country                                     True         184             7\n",
      "tax_revenue_country_country                     True         183             7\n",
      "total_tax_rate_country                          True         182             7\n",
      "life_expectancy_country                         True         182             7\n",
      "gross_tertiary_education_enrollment             True         182             7\n",
      "gross_primary_education_enrollment_country      True         181             7\n",
      "latitude_country                                True         164             6\n",
      "population_country                              True         164             6\n",
      "gdp_country                                     True         164             6\n",
      "longitude_country                               True         164             6\n",
      "birthDate                                       True          76             3\n",
      "birthYear                                       True          76             3\n",
      "birthMonth                                      True          76             3\n",
      "birthDay                                        True          76             3\n",
      "city                                            True          72             3\n",
      "age                                             True          65             2\n",
      "country                                         True          38             1\n",
      "firstName                                       True           3             0\n",
      "lastName                                       False           0             0\n",
      "source                                         False           0             0\n",
      "category                                       False           0             0\n",
      "personName                                     False           0             0\n",
      "selfMade                                       False           0             0\n",
      "industries                                     False           0             0\n",
      "countryOfCitizenship                           False           0             0\n",
      "status                                         False           0             0\n",
      "gender                                         False           0             0\n",
      "date                                           False           0             0\n",
      "finalWorth                                     False           0             0\n",
      "rank                                           False           0             0\n"
     ]
    }
   ],
   "source": [
    "# Check for null values in each column\n",
    "null_values = df.isnull().any()\n",
    "\n",
    "# Count null values in each column\n",
    "null_counts = df.isnull().sum()\n",
    "\n",
    "null_percent = (round(null_counts/len(df),2)*100).astype(int)\n",
    "\n",
    "# Create a new DataFrame\n",
    "null_info_df = pd.DataFrame({\n",
    "    'Has_Null': null_values,\n",
    "    'Null_Count': null_counts,\n",
    "    'Null_Percent': null_percent\n",
    "})\n",
    "\n",
    "# Display the result\n",
    "print(null_info_df.sort_values(by='Null_Count', ascending=False))"
   ]
  },
  {
   "cell_type": "code",
   "execution_count": 52,
   "id": "6291c317",
   "metadata": {},
   "outputs": [],
   "source": [
    "# Drop the columns with almost only have null values\n",
    "df.drop([\"organization\", \"title\", \"state\", \"residenceStateRegion\"], axis=1, inplace=True)"
   ]
  },
  {
   "cell_type": "code",
   "execution_count": 53,
   "id": "c6334b26",
   "metadata": {},
   "outputs": [
    {
     "data": {
      "text/plain": [
       "False"
      ]
     },
     "execution_count": 53,
     "metadata": {},
     "output_type": "execute_result"
    }
   ],
   "source": [
    "# Check for duplicates\n",
    "df.duplicated().any()"
   ]
  },
  {
   "cell_type": "code",
   "execution_count": 54,
   "id": "d9905ee2",
   "metadata": {},
   "outputs": [
    {
     "name": "stdout",
     "output_type": "stream",
     "text": [
      "float64\n"
     ]
    },
    {
     "name": "stderr",
     "output_type": "stream",
     "text": [
      "C:\\Users\\pulki\\AppData\\Local\\Temp\\ipykernel_1476\\507803359.py:2: FutureWarning: The default value of regex will change from True to False in a future version. In addition, single character regular expressions will *not* be treated as literal strings when regex=True.\n",
      "  df['gdp_country'] = df['gdp_country'].str.replace('$','').replace(',','', regex=True).astype(float)\n"
     ]
    }
   ],
   "source": [
    "# Convert 'gdp_country' to float by removing '$' and ','\n",
    "df['gdp_country'] = df['gdp_country'].str.replace('$','').replace(',','', regex=True).astype(float)\n",
    "print(df['gdp_country'].dtype)"
   ]
  },
  {
   "cell_type": "code",
   "execution_count": 55,
   "id": "c1c639b2",
   "metadata": {},
   "outputs": [
    {
     "data": {
      "text/plain": [
       "False"
      ]
     },
     "execution_count": 55,
     "metadata": {},
     "output_type": "execute_result"
    }
   ],
   "source": [
    "# To see whether we can fill null values in country column usign latitude and logitude columns:\n",
    "condition_country = (df['country'].isnull()) & (df['longitude_country'].notnull()) & (df['latitude_country'].notnull())\n",
    "\n",
    "# Check if there are any rows that satisfy the conditions\n",
    "condition_country.any()"
   ]
  },
  {
   "cell_type": "code",
   "execution_count": 56,
   "id": "5bb0b2c0",
   "metadata": {},
   "outputs": [],
   "source": [
    "# Since country is an important feature for our analysis. We drop the rows with null country values\n",
    "df.dropna(subset=['country'], inplace=True)"
   ]
  },
  {
   "cell_type": "code",
   "execution_count": 57,
   "id": "7b0a32f6",
   "metadata": {},
   "outputs": [
    {
     "data": {
      "text/plain": [
       "False"
      ]
     },
     "execution_count": 57,
     "metadata": {},
     "output_type": "execute_result"
    }
   ],
   "source": [
    "# To see if we can fill out null values in age column using birthDate or birthYear columns\n",
    "condition_age = ((df['age'].isnull()) & ((df['birthDate'].notnull()) | df['birthYear'].notnull()))\n",
    "\n",
    "# Check if there are any rows that satisfy the conditions\n",
    "condition_age.any()"
   ]
  },
  {
   "cell_type": "code",
   "execution_count": 58,
   "id": "03396a2c",
   "metadata": {},
   "outputs": [],
   "source": [
    "# Drop unnecessary columns\n",
    "df.drop([\"birthDay\", \"birthMonth\", \"birthYear\"], axis=1, inplace=True)"
   ]
  },
  {
   "cell_type": "code",
   "execution_count": 59,
   "id": "abe9e548",
   "metadata": {},
   "outputs": [],
   "source": [
    "# Convert 'birthDate' to datetime\n",
    "df['birthDate'] = pd.to_datetime(df['birthDate'], errors='coerce')"
   ]
  },
  {
   "cell_type": "code",
   "execution_count": 60,
   "id": "14b91884",
   "metadata": {},
   "outputs": [
    {
     "data": {
      "text/plain": [
       "cpi_country                                   146\n",
       "cpi_change_country                            146\n",
       "gdp_country                                   126\n",
       "gross_tertiary_education_enrollment           144\n",
       "gross_primary_education_enrollment_country    143\n",
       "life_expectancy_country                       144\n",
       "tax_revenue_country_country                   145\n",
       "total_tax_rate_country                        144\n",
       "population_country                            126\n",
       "latitude_country                              126\n",
       "longitude_country                             126\n",
       "dtype: int64"
      ]
     },
     "execution_count": 60,
     "metadata": {},
     "output_type": "execute_result"
    }
   ],
   "source": [
    "# Specify the columns with missing values and the country column\n",
    "columns_to_fill = ['cpi_country','cpi_change_country',\n",
    "                   'gdp_country', 'gross_tertiary_education_enrollment',\n",
    "                   'gross_primary_education_enrollment_country',\n",
    "                   'life_expectancy_country', 'tax_revenue_country_country',\n",
    "                   'total_tax_rate_country', 'population_country',\n",
    "                   'latitude_country', 'longitude_country']\n",
    "\n",
    "# Identify unique countries with complete information\n",
    "complete_countries = df.dropna(subset=columns_to_fill + ['country'])[['country'] + columns_to_fill].drop_duplicates()\n",
    "\n",
    "# Group by 'country' and fill missing values with corresponding country's values\n",
    "df[columns_to_fill] = df.groupby('country')[columns_to_fill].transform(lambda x: x.fillna(method='ffill').fillna(method='bfill'))\n",
    "\n",
    "# Drop duplicate rows based on all columns\n",
    "df = df.drop_duplicates()\n",
    "\n",
    "# Reset index after dropping duplicates\n",
    "df = df.reset_index(drop=True)\n",
    "\n",
    "# Missing values after filling\n",
    "df[columns_to_fill].isnull().sum()"
   ]
  },
  {
   "cell_type": "code",
   "execution_count": 61,
   "id": "dd7293dc",
   "metadata": {},
   "outputs": [],
   "source": [
    "# Drop the remaining null values\n",
    "df.dropna(inplace=True)"
   ]
  },
  {
   "cell_type": "code",
   "execution_count": 62,
   "id": "f0971f57",
   "metadata": {},
   "outputs": [
    {
     "name": "stdout",
     "output_type": "stream",
     "text": [
      "Total rows with missing values: 0\n"
     ]
    }
   ],
   "source": [
    "# Count the total number of rows with at least one missing value\n",
    "total_missing_rows = (df.isnull().any(axis=1)).sum()\n",
    "\n",
    "# Print the result\n",
    "print(f'Total rows with missing values: {total_missing_rows}')"
   ]
  },
  {
   "cell_type": "code",
   "execution_count": 63,
   "id": "47ddab28",
   "metadata": {},
   "outputs": [
    {
     "data": {
      "text/html": [
       "<div>\n",
       "<style scoped>\n",
       "    .dataframe tbody tr th:only-of-type {\n",
       "        vertical-align: middle;\n",
       "    }\n",
       "\n",
       "    .dataframe tbody tr th {\n",
       "        vertical-align: top;\n",
       "    }\n",
       "\n",
       "    .dataframe thead th {\n",
       "        text-align: right;\n",
       "    }\n",
       "</style>\n",
       "<table border=\"1\" class=\"dataframe\">\n",
       "  <thead>\n",
       "    <tr style=\"text-align: right;\">\n",
       "      <th></th>\n",
       "      <th>rank</th>\n",
       "      <th>finalWorth</th>\n",
       "      <th>category</th>\n",
       "      <th>personName</th>\n",
       "      <th>age</th>\n",
       "      <th>country</th>\n",
       "      <th>city</th>\n",
       "      <th>source</th>\n",
       "      <th>industries</th>\n",
       "      <th>countryOfCitizenship</th>\n",
       "      <th>...</th>\n",
       "      <th>cpi_change_country</th>\n",
       "      <th>gdp_country</th>\n",
       "      <th>gross_tertiary_education_enrollment</th>\n",
       "      <th>gross_primary_education_enrollment_country</th>\n",
       "      <th>life_expectancy_country</th>\n",
       "      <th>tax_revenue_country_country</th>\n",
       "      <th>total_tax_rate_country</th>\n",
       "      <th>population_country</th>\n",
       "      <th>latitude_country</th>\n",
       "      <th>longitude_country</th>\n",
       "    </tr>\n",
       "  </thead>\n",
       "  <tbody>\n",
       "    <tr>\n",
       "      <th>0</th>\n",
       "      <td>1</td>\n",
       "      <td>211000</td>\n",
       "      <td>Fashion &amp; Retail</td>\n",
       "      <td>Bernard Arnault &amp; family</td>\n",
       "      <td>74.0</td>\n",
       "      <td>France</td>\n",
       "      <td>Paris</td>\n",
       "      <td>LVMH</td>\n",
       "      <td>Fashion &amp; Retail</td>\n",
       "      <td>France</td>\n",
       "      <td>...</td>\n",
       "      <td>1.1</td>\n",
       "      <td>2.715518e+12</td>\n",
       "      <td>65.6</td>\n",
       "      <td>102.5</td>\n",
       "      <td>82.5</td>\n",
       "      <td>24.2</td>\n",
       "      <td>60.7</td>\n",
       "      <td>67059887.0</td>\n",
       "      <td>46.227638</td>\n",
       "      <td>2.213749</td>\n",
       "    </tr>\n",
       "    <tr>\n",
       "      <th>1</th>\n",
       "      <td>2</td>\n",
       "      <td>180000</td>\n",
       "      <td>Automotive</td>\n",
       "      <td>Elon Musk</td>\n",
       "      <td>51.0</td>\n",
       "      <td>United States</td>\n",
       "      <td>Austin</td>\n",
       "      <td>Tesla, SpaceX</td>\n",
       "      <td>Automotive</td>\n",
       "      <td>United States</td>\n",
       "      <td>...</td>\n",
       "      <td>7.5</td>\n",
       "      <td>2.142770e+13</td>\n",
       "      <td>88.2</td>\n",
       "      <td>101.8</td>\n",
       "      <td>78.5</td>\n",
       "      <td>9.6</td>\n",
       "      <td>36.6</td>\n",
       "      <td>328239523.0</td>\n",
       "      <td>37.090240</td>\n",
       "      <td>-95.712891</td>\n",
       "    </tr>\n",
       "    <tr>\n",
       "      <th>2</th>\n",
       "      <td>3</td>\n",
       "      <td>114000</td>\n",
       "      <td>Technology</td>\n",
       "      <td>Jeff Bezos</td>\n",
       "      <td>59.0</td>\n",
       "      <td>United States</td>\n",
       "      <td>Medina</td>\n",
       "      <td>Amazon</td>\n",
       "      <td>Technology</td>\n",
       "      <td>United States</td>\n",
       "      <td>...</td>\n",
       "      <td>7.5</td>\n",
       "      <td>2.142770e+13</td>\n",
       "      <td>88.2</td>\n",
       "      <td>101.8</td>\n",
       "      <td>78.5</td>\n",
       "      <td>9.6</td>\n",
       "      <td>36.6</td>\n",
       "      <td>328239523.0</td>\n",
       "      <td>37.090240</td>\n",
       "      <td>-95.712891</td>\n",
       "    </tr>\n",
       "    <tr>\n",
       "      <th>3</th>\n",
       "      <td>4</td>\n",
       "      <td>107000</td>\n",
       "      <td>Technology</td>\n",
       "      <td>Larry Ellison</td>\n",
       "      <td>78.0</td>\n",
       "      <td>United States</td>\n",
       "      <td>Lanai</td>\n",
       "      <td>Oracle</td>\n",
       "      <td>Technology</td>\n",
       "      <td>United States</td>\n",
       "      <td>...</td>\n",
       "      <td>7.5</td>\n",
       "      <td>2.142770e+13</td>\n",
       "      <td>88.2</td>\n",
       "      <td>101.8</td>\n",
       "      <td>78.5</td>\n",
       "      <td>9.6</td>\n",
       "      <td>36.6</td>\n",
       "      <td>328239523.0</td>\n",
       "      <td>37.090240</td>\n",
       "      <td>-95.712891</td>\n",
       "    </tr>\n",
       "    <tr>\n",
       "      <th>4</th>\n",
       "      <td>5</td>\n",
       "      <td>106000</td>\n",
       "      <td>Finance &amp; Investments</td>\n",
       "      <td>Warren Buffett</td>\n",
       "      <td>92.0</td>\n",
       "      <td>United States</td>\n",
       "      <td>Omaha</td>\n",
       "      <td>Berkshire Hathaway</td>\n",
       "      <td>Finance &amp; Investments</td>\n",
       "      <td>United States</td>\n",
       "      <td>...</td>\n",
       "      <td>7.5</td>\n",
       "      <td>2.142770e+13</td>\n",
       "      <td>88.2</td>\n",
       "      <td>101.8</td>\n",
       "      <td>78.5</td>\n",
       "      <td>9.6</td>\n",
       "      <td>36.6</td>\n",
       "      <td>328239523.0</td>\n",
       "      <td>37.090240</td>\n",
       "      <td>-95.712891</td>\n",
       "    </tr>\n",
       "  </tbody>\n",
       "</table>\n",
       "<p>5 rows × 28 columns</p>\n",
       "</div>"
      ],
      "text/plain": [
       "   rank  finalWorth               category                personName   age  \\\n",
       "0     1      211000       Fashion & Retail  Bernard Arnault & family  74.0   \n",
       "1     2      180000             Automotive                 Elon Musk  51.0   \n",
       "2     3      114000             Technology                Jeff Bezos  59.0   \n",
       "3     4      107000             Technology             Larry Ellison  78.0   \n",
       "4     5      106000  Finance & Investments            Warren Buffett  92.0   \n",
       "\n",
       "         country    city              source             industries  \\\n",
       "0         France   Paris                LVMH       Fashion & Retail   \n",
       "1  United States  Austin       Tesla, SpaceX             Automotive   \n",
       "2  United States  Medina              Amazon             Technology   \n",
       "3  United States   Lanai              Oracle             Technology   \n",
       "4  United States   Omaha  Berkshire Hathaway  Finance & Investments   \n",
       "\n",
       "  countryOfCitizenship  ...  cpi_change_country   gdp_country  \\\n",
       "0               France  ...                 1.1  2.715518e+12   \n",
       "1        United States  ...                 7.5  2.142770e+13   \n",
       "2        United States  ...                 7.5  2.142770e+13   \n",
       "3        United States  ...                 7.5  2.142770e+13   \n",
       "4        United States  ...                 7.5  2.142770e+13   \n",
       "\n",
       "  gross_tertiary_education_enrollment  \\\n",
       "0                                65.6   \n",
       "1                                88.2   \n",
       "2                                88.2   \n",
       "3                                88.2   \n",
       "4                                88.2   \n",
       "\n",
       "  gross_primary_education_enrollment_country life_expectancy_country  \\\n",
       "0                                      102.5                    82.5   \n",
       "1                                      101.8                    78.5   \n",
       "2                                      101.8                    78.5   \n",
       "3                                      101.8                    78.5   \n",
       "4                                      101.8                    78.5   \n",
       "\n",
       "  tax_revenue_country_country total_tax_rate_country  population_country  \\\n",
       "0                        24.2                   60.7          67059887.0   \n",
       "1                         9.6                   36.6         328239523.0   \n",
       "2                         9.6                   36.6         328239523.0   \n",
       "3                         9.6                   36.6         328239523.0   \n",
       "4                         9.6                   36.6         328239523.0   \n",
       "\n",
       "   latitude_country  longitude_country  \n",
       "0         46.227638           2.213749  \n",
       "1         37.090240         -95.712891  \n",
       "2         37.090240         -95.712891  \n",
       "3         37.090240         -95.712891  \n",
       "4         37.090240         -95.712891  \n",
       "\n",
       "[5 rows x 28 columns]"
      ]
     },
     "execution_count": 63,
     "metadata": {},
     "output_type": "execute_result"
    }
   ],
   "source": [
    "df.head()"
   ]
  },
  {
   "cell_type": "code",
   "execution_count": 64,
   "id": "aa9880d4",
   "metadata": {},
   "outputs": [
    {
     "data": {
      "text/plain": [
       "(2369, 28)"
      ]
     },
     "execution_count": 64,
     "metadata": {},
     "output_type": "execute_result"
    }
   ],
   "source": [
    "df.shape"
   ]
  },
  {
   "cell_type": "code",
   "execution_count": 65,
   "id": "b98bdb1f",
   "metadata": {},
   "outputs": [
    {
     "data": {
      "text/plain": [
       "Index(['rank', 'finalWorth', 'category', 'personName', 'age', 'country',\n",
       "       'city', 'source', 'industries', 'countryOfCitizenship', 'selfMade',\n",
       "       'status', 'gender', 'birthDate', 'lastName', 'firstName', 'date',\n",
       "       'cpi_country', 'cpi_change_country', 'gdp_country',\n",
       "       'gross_tertiary_education_enrollment',\n",
       "       'gross_primary_education_enrollment_country', 'life_expectancy_country',\n",
       "       'tax_revenue_country_country', 'total_tax_rate_country',\n",
       "       'population_country', 'latitude_country', 'longitude_country'],\n",
       "      dtype='object')"
      ]
     },
     "execution_count": 65,
     "metadata": {},
     "output_type": "execute_result"
    }
   ],
   "source": [
    "df.columns"
   ]
  },
  {
   "cell_type": "markdown",
   "id": "450175e1",
   "metadata": {},
   "source": [
    "Let’s calculate the GDP per capita and drop the ‘gdp_country’ and ‘population_country’ columns:"
   ]
  },
  {
   "cell_type": "code",
   "execution_count": 66,
   "id": "c30271f9",
   "metadata": {},
   "outputs": [],
   "source": [
    "# Calculate GDP per capita\n",
    "df['gdp_per_capita'] = df['gdp_country'] / df['population_country']\n",
    "\n",
    "# Drop 'gdp_country' and 'population_country' columns\n",
    "df = df.drop(['gdp_country', 'population_country'], axis=1)"
   ]
  },
  {
   "cell_type": "code",
   "execution_count": 67,
   "id": "bd3fc273",
   "metadata": {},
   "outputs": [
    {
     "name": "stdout",
     "output_type": "stream",
     "text": [
      "[False  True]\n",
      "['M' 'F']\n"
     ]
    }
   ],
   "source": [
    "print(df['selfMade'].unique())\n",
    "print(df['gender'].unique())\n"
   ]
  },
  {
   "cell_type": "markdown",
   "id": "102da180",
   "metadata": {},
   "source": [
    "Next, let’s perform one-hot encoding on the categorical variables:"
   ]
  },
  {
   "cell_type": "code",
   "execution_count": 69,
   "id": "e7a7e4d4",
   "metadata": {},
   "outputs": [],
   "source": [
    "df['selfMade'] = df['selfMade'].replace({True: 'Yes', False: 'No'})\n",
    "df['gender'] = df['gender'].replace({'M': 'Male', 'F': 'Female'})\n",
    "\n",
    "df = pd.get_dummies(df, columns=['selfMade', 'gender', 'industries'])\n"
   ]
  },
  {
   "cell_type": "markdown",
   "id": "e1fc7a81",
   "metadata": {},
   "source": [
    "Null hypothesis: ‘industries’ do not have a significant effect on ‘finalWorth’.\n",
    "\n",
    "\n",
    "Now, let’s define the predictors for each model and the target variable:"
   ]
  },
  {
   "cell_type": "code",
   "execution_count": 75,
   "id": "86b13dca",
   "metadata": {},
   "outputs": [],
   "source": [
    "# Define the predictors for the first model\n",
    "predictors_model1 = ['age', 'selfMade_Yes', 'selfMade_No', 'gender_Male', 'gender_Female', \n",
    "                     'gdp_per_capita', 'tax_revenue_country_country', 'total_tax_rate_country']\n",
    "\n",
    "# Define the predictors for the second model\n",
    "predictors_model2 = predictors_model1 + [col for col in df.columns if 'industries_' in col]\n",
    "\n",
    "# Define the target variable\n",
    "target = 'finalWorth'"
   ]
  },
  {
   "cell_type": "code",
   "execution_count": null,
   "id": "a173a833",
   "metadata": {},
   "outputs": [],
   "source": []
  },
  {
   "cell_type": "markdown",
   "id": "b4245cf8",
   "metadata": {},
   "source": [
    "Finally, let’s fit the models and perform an ANOVA test to compare them:"
   ]
  },
  {
   "cell_type": "code",
   "execution_count": 76,
   "id": "170695e3",
   "metadata": {},
   "outputs": [
    {
     "name": "stdout",
     "output_type": "stream",
     "text": [
      "   df_resid           ssr  df_diff       ss_diff         F    Pr(>F)\n",
      "0    2362.0  2.477795e+11      0.0           NaN       NaN       NaN\n",
      "1    2345.0  2.431627e+11     17.0  4.616821e+09  2.619027  0.000315\n"
     ]
    }
   ],
   "source": [
    "import statsmodels.api as sm\n",
    "import statsmodels.formula.api as smf\n",
    "\n",
    "# Fit the first model\n",
    "model1 = sm.OLS(df[target], sm.add_constant(df[predictors_model1])).fit()\n",
    "\n",
    "# Fit the second model\n",
    "model2 = sm.OLS(df[target], sm.add_constant(df[predictors_model2])).fit()\n",
    "\n",
    "# Perform an ANOVA test\n",
    "anova_results = sm.stats.anova_lm(model1, model2)\n",
    "print(anova_results)"
   ]
  },
  {
   "cell_type": "markdown",
   "id": "884e3a2b",
   "metadata": {},
   "source": [
    "Based on these results, it appears that Model 1 (which includes ‘industries’ as a predictor) provides a significantly better fit to the data than Model 0, as indicated by the smaller ssr, the larger F-statistic, and the small p-value."
   ]
  },
  {
   "cell_type": "markdown",
   "id": "e445173c",
   "metadata": {},
   "source": [
    "Null hypothesis: ‘industries’ do not have a significant effect on ‘finalWorth’.\n",
    "\n",
    "\n",
    "Let's check if adding age as a predictor improves model fit"
   ]
  },
  {
   "cell_type": "code",
   "execution_count": 77,
   "id": "ad11f55c",
   "metadata": {},
   "outputs": [],
   "source": [
    "# Define the predictors for the first model (without 'age' and 'country')\n",
    "predictors_model1 = ['selfMade_Yes', 'selfMade_No', 'gender_Male', 'gender_Female', \n",
    "                     'gdp_per_capita', 'tax_revenue_country_country', 'total_tax_rate_country']\n",
    "\n",
    "# Define the predictors for the second model (with 'age' but without 'country')\n",
    "predictors_model2 = predictors_model1 + ['age']\n"
   ]
  },
  {
   "cell_type": "code",
   "execution_count": 78,
   "id": "cece603e",
   "metadata": {},
   "outputs": [
    {
     "name": "stdout",
     "output_type": "stream",
     "text": [
      "   df_resid           ssr  df_diff       ss_diff         F    Pr(>F)\n",
      "0    2363.0  2.484486e+11      0.0           NaN       NaN       NaN\n",
      "1    2362.0  2.477795e+11      1.0  6.691178e+08  6.378479  0.011616\n"
     ]
    }
   ],
   "source": [
    "# Fit the first model\n",
    "model1 = sm.OLS(df[target], sm.add_constant(df[predictors_model1])).fit()\n",
    "\n",
    "# Fit the second model\n",
    "model2 = sm.OLS(df[target], sm.add_constant(df[predictors_model2])).fit()\n",
    "\n",
    "# Perform an ANOVA test\n",
    "anova_results = sm.stats.anova_lm(model1, model2)\n",
    "print(anova_results)\n"
   ]
  },
  {
   "cell_type": "markdown",
   "id": "cba190ed",
   "metadata": {},
   "source": [
    "Based on these results, it appears that adding ‘age’ as a predictor (Model 1) provides a significantly better fit to the data than the model without ‘age’ (Model 0), as indicated by the smaller ssr, the larger F-statistic, and the small p-value."
   ]
  },
  {
   "cell_type": "code",
   "execution_count": null,
   "id": "4857d308",
   "metadata": {},
   "outputs": [],
   "source": []
  }
 ],
 "metadata": {
  "kernelspec": {
   "display_name": "Python 3 (ipykernel)",
   "language": "python",
   "name": "python3"
  },
  "language_info": {
   "codemirror_mode": {
    "name": "ipython",
    "version": 3
   },
   "file_extension": ".py",
   "mimetype": "text/x-python",
   "name": "python",
   "nbconvert_exporter": "python",
   "pygments_lexer": "ipython3",
   "version": "3.11.3"
  }
 },
 "nbformat": 4,
 "nbformat_minor": 5
}
